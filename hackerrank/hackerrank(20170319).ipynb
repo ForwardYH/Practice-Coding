{
 "cells": [
  {
   "cell_type": "markdown",
   "metadata": {},
   "source": [
    "# Maximize It!\n",
    "\n",
    "* source by https://www.hackerrank.com/challenges/maximize-it"
   ]
  },
  {
   "cell_type": "code",
   "execution_count": 160,
   "metadata": {
    "collapsed": false
   },
   "outputs": [
    {
     "name": "stdout",
     "output_type": "stream",
     "text": [
      "3 1000\n",
      "2 5 4\n",
      "3 7 8 9\n",
      "5 5 7 8 9 10\n",
      "206\n"
     ]
    }
   ],
   "source": [
    "def find_max_number(lst):\n",
    "    save_max_num_lst = []\n",
    "    for i, _ in enumerate(lst):\n",
    "        test = lst[i]\n",
    "        max_val = test[0]\n",
    "        for i, _ in enumerate(test):\n",
    "            if test[i] > max_val:\n",
    "                max_val = test[i]\n",
    "        \n",
    "        save_max_num_lst.append(max_val)\n",
    "    \n",
    "    return save_max_num_lst\n",
    "\n",
    "def main():\n",
    "    K, M = map(int, raw_input().split())\n",
    "    input_list = [map(int, raw_input().split()) for  _ in xrange(K)]\n",
    "    solution_case = find_max_number(input_list)\n",
    "    solution = sum(map(lambda x : x**2, solution_case)) % M\n",
    "    print solution\n",
    "    \n",
    "if __name__ == '__main__':\n",
    "    main()\n",
    "        \n",
    "    \n",
    "\n",
    "\n"
   ]
  }
 ],
 "metadata": {
  "kernelspec": {
   "display_name": "Python 2",
   "language": "python",
   "name": "python2"
  },
  "language_info": {
   "codemirror_mode": {
    "name": "ipython",
    "version": 2
   },
   "file_extension": ".py",
   "mimetype": "text/x-python",
   "name": "python",
   "nbconvert_exporter": "python",
   "pygments_lexer": "ipython2",
   "version": "2.7.12"
  }
 },
 "nbformat": 4,
 "nbformat_minor": 1
}
