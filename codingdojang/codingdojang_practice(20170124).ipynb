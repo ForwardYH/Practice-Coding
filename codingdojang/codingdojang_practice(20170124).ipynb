{
 "cells": [
  {
   "cell_type": "markdown",
   "metadata": {},
   "source": [
    "# 뒤쪽 0의 갯수 구하기\n",
    "\n",
    "\n",
    "* N!의 정의는 다음과 같습니다.\n",
    "\n",
    "N! = 1 * 2 * 3 * 4 ... N\n",
    "이때 N!를 정수로 변환 해 뒤에서 부터 연속되는 0의 갯수를 구하세요.\n",
    "\n",
    "예) f(12) -> 2 # 12!은 479001600 f(25) -> 6 # 25!은 15511210043330985984000000\n",
    "\n",
    "출처: codewars"
   ]
  },
  {
   "cell_type": "code",
   "execution_count": 68,
   "metadata": {
    "collapsed": false
   },
   "outputs": [
    {
     "name": "stdout",
     "output_type": "stream",
     "text": [
      "(479001600, 2)\n",
      "(15511210043330985984000000L, 6)\n",
      "(2432902008176640000L, 4)\n",
      "(1307674368000L, 3)\n",
      "(6, 0)\n"
     ]
    }
   ],
   "source": [
    "def count_zero(num):\n",
    "    count = 0\n",
    "    fac = 1\n",
    "    for i in range(1, num+1):\n",
    "        fac *= i\n",
    "    str_fac = str(fac)\n",
    "    for i in range(1, len(str_fac)+1):\n",
    "        if str_fac[-i] != '0':\n",
    "            break\n",
    "        count += 1\n",
    "            \n",
    "\n",
    "    return fac, count\n",
    "\n",
    "cases = [12, 25, 20, 15, 3]\n",
    "\n",
    "for case in cases:\n",
    "    print count_zero(case)\n",
    "            \n",
    "\n"
   ]
  }
 ],
 "metadata": {
  "kernelspec": {
   "display_name": "Python 2",
   "language": "python",
   "name": "python2"
  },
  "language_info": {
   "codemirror_mode": {
    "name": "ipython",
    "version": 2
   },
   "file_extension": ".py",
   "mimetype": "text/x-python",
   "name": "python",
   "nbconvert_exporter": "python",
   "pygments_lexer": "ipython2",
   "version": "2.7.12"
  }
 },
 "nbformat": 4,
 "nbformat_minor": 1
}
