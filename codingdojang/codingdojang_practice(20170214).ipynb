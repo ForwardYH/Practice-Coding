{
 "cells": [
  {
   "cell_type": "markdown",
   "metadata": {},
   "source": [
    "# Simple Balanced Parentheses\n",
    "\n",
    "* 출처: http://interactivepython.org/courselib/static/pythonds/BasicDS/SimpleBalancedParentheses.html\n",
    "\n",
    "아래는 괄호를 이용한 연산식이다.\n",
    "\n",
    "(5+6)∗(7+8)/(4+3)\n",
    "우리는 여는 괄호가 있으면 닫는 괄호가 반드시 있어야 한다는 것을 잘 알고 있다.\n",
    "\n",
    "* 다음은 정상적인(balanced) 괄호 사용의 예이다.\n",
    "\n",
    "    * (()()()())\n",
    "    * (((())))\n",
    "    * (()((())()))\n",
    "\n",
    "* 다음은 비정상적인(not balanced) 괄호 사용의 예이다.\n",
    "\n",
    "    * ((((((())\n",
    "    * ()))\n",
    "    * (()()(()\n",
    "    * (()))(\n",
    "    * ())(()\n",
    "---\n",
    "\n",
    "괄호의 사용이 잘 되었는지 잘못 되었는지 판별 해 주는 프로그램을 작성하시오."
   ]
  },
  {
   "cell_type": "code",
   "execution_count": 87,
   "metadata": {
    "collapsed": false
   },
   "outputs": [
    {
     "name": "stdout",
     "output_type": "stream",
     "text": [
      "True\n",
      "True\n",
      "True\n",
      "False\n",
      "False\n",
      "False\n",
      "False\n",
      "True\n"
     ]
    }
   ],
   "source": [
    "def is_balanced_parentheses(p):\n",
    "    check_count = 0\n",
    "    for i, _ in enumerate(p):\n",
    "        if p[i] == '(':\n",
    "            check_count += 1\n",
    "        else:\n",
    "            check_count -= 1\n",
    "            \n",
    "        if check_count < 0: \n",
    "            \n",
    "            return 'False'\n",
    "    \n",
    "    return check_count == 0                   \n",
    "    \n",
    "Case = ['(()()()())', '(((())))', '(()((())()))',\n",
    "        '((((((())', '(()()(()', '(()))(', \n",
    "        '())(()', '((()))' ]\n",
    "\n",
    "for case in Case:\n",
    "    print is_balanced_parentheses(case)\n",
    "        "
   ]
  }
 ],
 "metadata": {
  "kernelspec": {
   "display_name": "Python 2",
   "language": "python",
   "name": "python2"
  },
  "language_info": {
   "codemirror_mode": {
    "name": "ipython",
    "version": 2
   },
   "file_extension": ".py",
   "mimetype": "text/x-python",
   "name": "python",
   "nbconvert_exporter": "python",
   "pygments_lexer": "ipython2",
   "version": "2.7.12"
  }
 },
 "nbformat": 4,
 "nbformat_minor": 1
}
