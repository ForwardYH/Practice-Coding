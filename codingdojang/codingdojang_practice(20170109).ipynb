{
 "cells": [
  {
   "cell_type": "markdown",
   "metadata": {},
   "source": [
    "# CamelCase를 Pothole_case 로 바꾸기!\n",
    "\n",
    "\n",
    "* 파이썬과 같은 몇몇 프로그래밍 언어는 Pothole_case 를 더 선호하는 언어라고 합니다.\n",
    "\n",
    "    Example:\n",
    "\n",
    "    codingDojang --> coding_dojang\n",
    "\n",
    "    numGoat30 --> num_goat_3_0\n",
    "\n",
    "    위 보기와 같이 CamelCase를 Pothole_case 로 바꾸는 함수를 만들어요!\n",
    "\n",
    "    출처: UT past test"
   ]
  },
  {
   "cell_type": "code",
   "execution_count": 1,
   "metadata": {
    "collapsed": false
   },
   "outputs": [
    {
     "name": "stdout",
     "output_type": "stream",
     "text": [
      "coding_dojang\n",
      "num_goat_3_0\n"
     ]
    }
   ],
   "source": [
    "camel_case = 'codingDojang'\n",
    "camel_case1 = 'numGoat30'\n",
    "def pothole_case(case):\n",
    "    new = ''\n",
    "    for i in range(len(case)): \n",
    "        if case[i].islower() == False:\n",
    "            new += '_' + case[i].lower()\n",
    "        elif case[i].isdigit() == True:\n",
    "            new += '_' + case[i]\n",
    "        else:\n",
    "            new += case[i]\n",
    "            \n",
    "    return new\n",
    "\n",
    "print pothole_case(camel_case)\n",
    "print pothole_case(camel_case1)"
   ]
  },
  {
   "cell_type": "markdown",
   "metadata": {},
   "source": [
    "# 소수의 개수 구해보기.\n",
    "\n",
    "* 2이상 1000이하 자연수의 집합에서 소수의 갯수를 구하는 알고리즘을 작성하시오."
   ]
  },
  {
   "cell_type": "code",
   "execution_count": 22,
   "metadata": {
    "collapsed": false
   },
   "outputs": [
    {
     "name": "stdout",
     "output_type": "stream",
     "text": [
      "Input number : 1000\n",
      "1000이하 소수의 갯수: 168개\n"
     ]
    }
   ],
   "source": [
    "M = int(raw_input(\"Input number : \"))\n",
    "prime_number_lst = []\n",
    "for i in range(2, M+1):\n",
    "    for j in range(1, i):\n",
    "        if j == 1:\n",
    "            continue\n",
    "        elif i % j == 0: \n",
    "            break                  \n",
    "    else:\n",
    "        prime_number_lst.append(i)\n",
    "        \n",
    "print '{}이하 소수의 갯수:'.format(M),str(len(prime_number_lst)) + '개'"
   ]
  },
  {
   "cell_type": "code",
   "execution_count": null,
   "metadata": {
    "collapsed": true
   },
   "outputs": [],
   "source": []
  }
 ],
 "metadata": {
  "kernelspec": {
   "display_name": "Python 2",
   "language": "python",
   "name": "python2"
  },
  "language_info": {
   "codemirror_mode": {
    "name": "ipython",
    "version": 2
   },
   "file_extension": ".py",
   "mimetype": "text/x-python",
   "name": "python",
   "nbconvert_exporter": "python",
   "pygments_lexer": "ipython2",
   "version": "2.7.12"
  }
 },
 "nbformat": 4,
 "nbformat_minor": 1
}
