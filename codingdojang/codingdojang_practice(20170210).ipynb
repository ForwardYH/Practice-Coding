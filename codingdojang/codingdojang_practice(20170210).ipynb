{
 "cells": [
  {
   "cell_type": "markdown",
   "metadata": {},
   "source": [
    "# 가장 큰 수 만들기\n",
    "\n",
    "* 출처 : http://www.programcreek.com/2014/02/leetcode-largest-number-java/\n",
    "\n",
    "음수가 아닌 수들이 주어졌을 때 그 수들을 이어서 만들 수 있는 가장 큰 수를 구하시오. 예를 들어 [1,2,3]이 주어졌을 때 만들 수 있는 가장 큰 수는 321이고, [3, 30, 34, 5, 9] 가 주어지면 만들 수 있는 가장 큰 수는 9534330이다."
   ]
  },
  {
   "cell_type": "code",
   "execution_count": 1,
   "metadata": {
    "collapsed": true
   },
   "outputs": [],
   "source": [
    "from itertools import permutations"
   ]
  },
  {
   "cell_type": "code",
   "execution_count": 10,
   "metadata": {
    "collapsed": false
   },
   "outputs": [
    {
     "name": "stdout",
     "output_type": "stream",
     "text": [
      "9534330\n"
     ]
    }
   ],
   "source": [
    "def make_largest_number(lst):\n",
    "    check_lst = []\n",
    "    str_lst = []\n",
    "    for i in lst:\n",
    "        str_lst.append(str(i))\n",
    "    permutation_lst = list(permutations(str_lst, len(str_lst)))\n",
    "    \n",
    "    for j in permutation_lst:\n",
    "        k = ''.join(j)\n",
    "        check_lst.append(int(k))\n",
    "        \n",
    "    return max(check_lst)\n",
    "\n",
    "print make_largest_number([3,30,34,5,9])\n",
    "    "
   ]
  }
 ],
 "metadata": {
  "kernelspec": {
   "display_name": "Python 2",
   "language": "python",
   "name": "python2"
  },
  "language_info": {
   "codemirror_mode": {
    "name": "ipython",
    "version": 2
   },
   "file_extension": ".py",
   "mimetype": "text/x-python",
   "name": "python",
   "nbconvert_exporter": "python",
   "pygments_lexer": "ipython2",
   "version": "2.7.12"
  }
 },
 "nbformat": 4,
 "nbformat_minor": 1
}
