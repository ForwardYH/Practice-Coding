{
 "cells": [
  {
   "cell_type": "markdown",
   "metadata": {},
   "source": [
    "# 버전비교\n",
    "\n",
    "* A씨는 두 개의 버전을 비교하는 프로그램을 작성해야 한다.\n",
    "\n",
    "    버전은 다음처럼 \".\" 으로 구분된 문자열이다.\n",
    "\n",
    "    버전 예) 1.0.0, 1.0.23, 1.1\n",
    "\n",
    "    두 개의 버전을 비교하는 프로그램을 작성하시오.\n",
    "\n",
    "    다음은 버전 비교의 예이다."
   ]
  },
  {
   "cell_type": "code",
   "execution_count": 33,
   "metadata": {
    "collapsed": false
   },
   "outputs": [
    {
     "name": "stdout",
     "output_type": "stream",
     "text": [
      "0.0.2 > 0.0.1\n",
      "1.0.10 > 1.0.3\n",
      "1.2.0 > 1.1.99\n",
      "1.1 > 1.0.1\n",
      "1.2.2 = 1.2.2\n"
     ]
    }
   ],
   "source": [
    "def compare_version(a, b):\n",
    "    a_value, b_value = a.split('.'), b.split('.')\n",
    "    if int(a_value[1]) > int(b_value[1]):\n",
    "        return a + ' > ' + b\n",
    "    elif int(a_value[1]) < int(b_value[1]):\n",
    "        return a + ' < ' + b\n",
    "    else:\n",
    "        ver_int_a = int(''.join(a_value))\n",
    "        ver_int_b = int(''.join(b_value))\n",
    "\n",
    "        if ver_int_a > ver_int_b:\n",
    "            return a + ' > ' + b\n",
    "        elif ver_int_a < ver_int_b:\n",
    "            return a + ' < ' + b\n",
    "        else:\n",
    "            return a + ' = ' + b\n",
    "    \n",
    "a_ver, b_ver = '0.0.2', '0.0.1'\n",
    "c_ver, d_ver = '1.0.10','1.0.3'\n",
    "e_ver, f_ver = '1.2.0', '1.1.99'\n",
    "g_ver, h_ver = '1.1', '1.0.1'\n",
    "i_ver, j_ver = '1.2.2', '1.2.2'\n",
    "\n",
    "print compare_version(a_ver, b_ver)\n",
    "print compare_version(c_ver, d_ver)\n",
    "print compare_version(e_ver, f_ver)\n",
    "print compare_version(g_ver, h_ver)\n",
    "print compare_version(i_ver, j_ver)"
   ]
  },
  {
   "cell_type": "code",
   "execution_count": null,
   "metadata": {
    "collapsed": true
   },
   "outputs": [],
   "source": []
  }
 ],
 "metadata": {
  "kernelspec": {
   "display_name": "Python 2",
   "language": "python",
   "name": "python2"
  },
  "language_info": {
   "codemirror_mode": {
    "name": "ipython",
    "version": 2
   },
   "file_extension": ".py",
   "mimetype": "text/x-python",
   "name": "python",
   "nbconvert_exporter": "python",
   "pygments_lexer": "ipython2",
   "version": "2.7.12"
  }
 },
 "nbformat": 4,
 "nbformat_minor": 1
}
