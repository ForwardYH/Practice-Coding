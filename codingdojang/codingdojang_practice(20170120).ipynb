{
 "cells": [
  {
   "cell_type": "markdown",
   "metadata": {},
   "source": [
    "# Insertion Sort\n",
    "\n",
    "* 배열의 두번째 인덱스부터 시작하여 시작한 인덱스(검정색 블록) 좌측의 항목 중 자신이 들어가야 할 위치를 판단(소트되도록)하여 이동 한다.\n",
    "\n",
    "\n",
    "* 좌측의 배열 요소들은 본인보다 좌측에 값이 삽입되어 들어올 경우 한칸씩 우측으로 이동한다. 단, 삽입되어 들어오는 요소(그림에서 검정색 블록)가 있던 인덱스(원래의 위치)까지만 이동한다.\n",
    "\n",
    "\n",
    "* 마지막 인덱스까지 위 과정을 반복한다.\n",
    "\n",
    "\n",
    "---\n",
    "\n",
    "* 이와 같은 기능을 하는 소트 프로그램을 작성하시오."
   ]
  },
  {
   "cell_type": "code",
   "execution_count": 8,
   "metadata": {
    "collapsed": false
   },
   "outputs": [
    {
     "name": "stdout",
     "output_type": "stream",
     "text": [
      "[1, 2, 3, 4, 5, 6]\n",
      "[1, 3, 4, 5, 8, 9, 10]\n",
      "[1, 2, 4, 6, 9, 11]\n",
      "[1, 2, 4, 5, 9, 10]\n",
      "[1, 2, 3, 4, 6, 10]\n",
      "[1, 2, 4, 5, 7, 10]\n"
     ]
    }
   ],
   "source": [
    "def insertion_sort(lst):\n",
    "    for i in range(1, len(lst)):\n",
    "        for j in range(i):\n",
    "            if lst[j] > lst[i]:\n",
    "                lst.insert(j, lst[i])\n",
    "                lst.pop(i+1)\n",
    "    else:\n",
    "        \n",
    "        return lst\n",
    "    \n",
    "cases = [[5,2,4,6,1,3], [5,8,3,1,9,10,4],\n",
    "         [11, 6,4,2,9,1], [2,5,1,9,4,10],\n",
    "         [6,1,4,2,10,3], [7,2,4,10,1,5]]\n",
    "\n",
    "for case in cases:\n",
    "    print insertion_sort(case)\n",
    "\n",
    "            \n",
    "              \n",
    "                "
   ]
  },
  {
   "cell_type": "code",
   "execution_count": null,
   "metadata": {
    "collapsed": true
   },
   "outputs": [],
   "source": []
  }
 ],
 "metadata": {
  "kernelspec": {
   "display_name": "Python 2",
   "language": "python",
   "name": "python2"
  },
  "language_info": {
   "codemirror_mode": {
    "name": "ipython",
    "version": 2
   },
   "file_extension": ".py",
   "mimetype": "text/x-python",
   "name": "python",
   "nbconvert_exporter": "python",
   "pygments_lexer": "ipython2",
   "version": "2.7.12"
  }
 },
 "nbformat": 4,
 "nbformat_minor": 1
}
