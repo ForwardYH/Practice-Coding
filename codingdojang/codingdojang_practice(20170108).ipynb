{
 "cells": [
  {
   "cell_type": "markdown",
   "metadata": {},
   "source": [
    "# 모스부호 해독"
   ]
  },
  {
   "cell_type": "markdown",
   "metadata": {},
   "source": [
    "* 문자열 형식으로 입력 받은 모스코드(dot: . dash:-)를 해독하여 영어 문장으로 출력하는 프로그램을 작성하시오.\n",
    "\n",
    "  글자와 글자 사이는 공백 하나, 단어와 단어 사이는 공백 두개로 구분한다.\n",
    "\n",
    "  예를 들어 다음 모스부호는 \"he sleeps early\"로 해석해야 한다.\n",
    "  \n",
    "  \n",
    "   ## .... .  ... .-.. . . .--. ...  . .- .-. .-.. -.--"
   ]
  },
  {
   "cell_type": "code",
   "execution_count": 1,
   "metadata": {
    "collapsed": true
   },
   "outputs": [],
   "source": [
    "morse_code = {'A' : '.-', 'B' : '-...', 'C' : '-.-.', 'D' : '-..',\n",
    "              'E' : '.', 'F' : '..-.', 'G' : '--.', 'H' : '....',\n",
    "              'I' : '..', 'J' : '.---', 'K' : '-.-', 'L' : '.-..',\n",
    "              'M' : '--', 'N' : '-.', 'O' : '---','P' : '.--.', \n",
    "              'Q' : '--.-', 'R' : '.-.', 'S' : '...','T' : '-', \n",
    "              'U' : '..-', 'V' : '...-', 'W' : '.--','X' : '-..-', \n",
    "              'Y' : '-.--', 'Z' : '--..'}"
   ]
  },
  {
   "cell_type": "code",
   "execution_count": 15,
   "metadata": {
    "collapsed": false
   },
   "outputs": [
    {
     "name": "stdout",
     "output_type": "stream",
     "text": [
      ".... .  ... .-.. . . .--. ...  . .- .-. .-.. -.-- \n"
     ]
    }
   ],
   "source": [
    "original_sentence = 'he sleeps early'\n",
    "\n",
    "def convert_to_mose_code(original_sentence):\n",
    "    convert_sentence = ''\n",
    "    for i in original_sentence:\n",
    "        if i.upper() in morse_code:\n",
    "            convert_sentence += morse_code[i.upper()] + ' '\n",
    "        elif i == ' ':\n",
    "            convert_sentence += ' '\n",
    "                        \n",
    "    return convert_sentence\n",
    "print convert_to_mose_code(original_sentence)"
   ]
  },
  {
   "cell_type": "code",
   "execution_count": null,
   "metadata": {
    "collapsed": true
   },
   "outputs": [],
   "source": []
  }
 ],
 "metadata": {
  "kernelspec": {
   "display_name": "Python 2",
   "language": "python",
   "name": "python2"
  },
  "language_info": {
   "codemirror_mode": {
    "name": "ipython",
    "version": 2
   },
   "file_extension": ".py",
   "mimetype": "text/x-python",
   "name": "python",
   "nbconvert_exporter": "python",
   "pygments_lexer": "ipython2",
   "version": "2.7.12"
  }
 },
 "nbformat": 4,
 "nbformat_minor": 1
}
