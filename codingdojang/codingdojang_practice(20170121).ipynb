{
 "cells": [
  {
   "cell_type": "markdown",
   "metadata": {},
   "source": [
    "# Ones\n",
    "\n",
    "* 출처: programming challenges\n",
    "\n",
    "    2나 5로 나눌 수 없는 0 이상 10,000 이하의 정수 n이 주어졌는데, n의 배수 중에는 10진수로 표기했을 때 모든 자리 숫자가 1인 것이 있다. 그러한 n의 배수 중에서 가장 작은 것은 몇 자리 수일까?"
   ]
  },
  {
   "cell_type": "code",
   "execution_count": 14,
   "metadata": {
    "collapsed": false
   },
   "outputs": [
    {
     "name": "stdout",
     "output_type": "stream",
     "text": [
      "3\n",
      "6\n",
      "12\n",
      "Please input another number\n"
     ]
    }
   ],
   "source": [
    "def ones_problem(m):\n",
    "    number = 1\n",
    "    if m % 2 == 0 and m % 5 == 0:\n",
    "        return 'Please input another number'\n",
    "    else:\n",
    "        while int('1' * number ) % m != 0:\n",
    "            number += 1\n",
    "            \n",
    "        return number\n",
    "\n",
    "lst = [3, 7, 9901, 10]\n",
    "for i in lst:\n",
    "    print ones_problem(i)\n",
    "            \n",
    "    \n",
    "    "
   ]
  },
  {
   "cell_type": "code",
   "execution_count": null,
   "metadata": {
    "collapsed": true
   },
   "outputs": [],
   "source": []
  }
 ],
 "metadata": {
  "kernelspec": {
   "display_name": "Python 2",
   "language": "python",
   "name": "python2"
  },
  "language_info": {
   "codemirror_mode": {
    "name": "ipython",
    "version": 2
   },
   "file_extension": ".py",
   "mimetype": "text/x-python",
   "name": "python",
   "nbconvert_exporter": "python",
   "pygments_lexer": "ipython2",
   "version": "2.7.12"
  }
 },
 "nbformat": 4,
 "nbformat_minor": 1
}
