{
 "cells": [
  {
   "cell_type": "markdown",
   "metadata": {},
   "source": [
    "# Duplicate Numbers\n",
    "\n",
    "\n",
    "\n",
    "* 일전에 뭐 게임 회사에서 본 간단한 퀴즈 테스트 입니다.\n",
    "\n",
    "    0~9까지의 문자로 된 숫자를 입력 받았을 때, 이 입력 값이 0~9까지의 숫자가 각각 한 번 씩만 사용된 것인지 확인하는 함수를 구하시오.\n",
    "    \n",
    "---    \n",
    "\n",
    "   * sample inputs : 0123456789 01234 01234567890 6789012345 012322456789\n",
    "    \n",
    "   * sample outputs : true false false true false\n"
   ]
  },
  {
   "cell_type": "code",
   "execution_count": 6,
   "metadata": {
    "collapsed": false
   },
   "outputs": [
    {
     "name": "stdout",
     "output_type": "stream",
     "text": [
      "true\n",
      "false\n",
      "false\n",
      "true\n",
      "false\n"
     ]
    }
   ],
   "source": [
    "def duplicate_numbers(str_num):\n",
    "    \n",
    "    if len(set(str_num)) == 10 and len(str_num) == 10:\n",
    "        return 'true'\n",
    "           \n",
    "    else:\n",
    "        return 'false'\n",
    "    \n",
    "    \n",
    "str_num = '0123456789 01234 01234567890 6789012345 012322456789'\n",
    "\n",
    "for i in str_num.split():\n",
    "    print duplicate_numbers(i)\n",
    "    "
   ]
  },
  {
   "cell_type": "code",
   "execution_count": null,
   "metadata": {
    "collapsed": true
   },
   "outputs": [],
   "source": []
  }
 ],
 "metadata": {
  "kernelspec": {
   "display_name": "Python 2",
   "language": "python",
   "name": "python2"
  },
  "language_info": {
   "codemirror_mode": {
    "name": "ipython",
    "version": 2
   },
   "file_extension": ".py",
   "mimetype": "text/x-python",
   "name": "python",
   "nbconvert_exporter": "python",
   "pygments_lexer": "ipython2",
   "version": "2.7.12"
  }
 },
 "nbformat": 4,
 "nbformat_minor": 1
}
