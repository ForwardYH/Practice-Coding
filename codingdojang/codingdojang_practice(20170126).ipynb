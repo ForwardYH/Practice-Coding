{
 "cells": [
  {
   "cell_type": "markdown",
   "metadata": {},
   "source": [
    "# Special Sort"
   ]
  },
  {
   "cell_type": "markdown",
   "metadata": {},
   "source": [
    "* 출처 : http://www.careercup.com/question?id=5201559730257920\n",
    "\n",
    "구글 전화면접 문제\n",
    "\n",
    "n개의 정수를 가진 배열이 있다. 이 배열은 양의정수와 음의 정수를 모두 가지고 있다. 이제 당신은 이 배열을 좀 특별한 방법으로 정렬해야 한다.\n",
    "\n",
    "정렬이 되고 난 후, 음의 정수는 앞쪽에 양의정수는 뒷쪽에 있어야 한다. 또한 양의정수와 음의정수의 순서에는 변함이 없어야 한다.\n",
    "\n",
    "예. -1 1 3 -2 2 ans: -1 -2 1 3 2."
   ]
  },
  {
   "cell_type": "code",
   "execution_count": 19,
   "metadata": {
    "collapsed": false
   },
   "outputs": [
    {
     "name": "stdout",
     "output_type": "stream",
     "text": [
      "[-1, -2, 1, 3, 2]\n",
      "[-1, -4, -2, -5, 3, 2, 1]\n",
      "[-6, -5, 1, 2, 3]\n",
      "[-2, -10, 4, 2, 5]\n"
     ]
    }
   ],
   "source": [
    "#1\n",
    "def special_sort(lst):\n",
    "    sort_lst = []\n",
    "    negative_lst = []\n",
    "    positive_lst = []\n",
    "    for i in lst:\n",
    "        sort_lst.append(str(i))\n",
    "    for j in range(len(sort_lst)):\n",
    "        if '-' in sort_lst[j]:\n",
    "            negative_lst.append(int(sort_lst[j]))\n",
    "        else:\n",
    "            positive_lst.append(int(sort_lst[j]))\n",
    "\n",
    "    full_lst = negative_lst + positive_lst\n",
    "        \n",
    "    return full_lst\n",
    "\n",
    "\n",
    "cases = [[-1,1,3,-2,2], [-1, 3, -4, -2, 2, -5, 1],\n",
    "         [-6,1,-5,2,3], [-2, 4, 2, 5, -10]]\n",
    "\n",
    "for case in cases:\n",
    "    print special_sort(case)        "
   ]
  },
  {
   "cell_type": "code",
   "execution_count": 20,
   "metadata": {
    "collapsed": false
   },
   "outputs": [
    {
     "name": "stdout",
     "output_type": "stream",
     "text": [
      "[-1, -2, 1, 3, 2]\n",
      "[-1, -4, -2, -5, 3, 2, 1]\n",
      "[-6, -5, 1, 2, 3]\n",
      "[-2, -10, 4, 2, 5]\n"
     ]
    }
   ],
   "source": [
    "#2\n",
    "\n",
    "def special_sort_2(lst):\n",
    "    positive_list = []\n",
    "    negative_list = []\n",
    "    for i in lst:\n",
    "        if i < 0:\n",
    "            negative_list.append(i)\n",
    "        else:\n",
    "            positive_list.append(i)\n",
    "    \n",
    "    return negative_list + positive_list\n",
    "\n",
    "cases = [[-1,1,3,-2,2], [-1, 3, -4, -2, 2, -5, 1],\n",
    "         [-6,1,-5,2,3], [-2, 4, 2, 5, -10]]\n",
    "\n",
    "for case in cases:\n",
    "    print special_sort_2(case)"
   ]
  },
  {
   "cell_type": "code",
   "execution_count": 21,
   "metadata": {
    "collapsed": false
   },
   "outputs": [
    {
     "name": "stdout",
     "output_type": "stream",
     "text": [
      "[-1, -2, 1, 3, 2]\n",
      "[-1, -4, -2, -5, 3, 2, 1]\n",
      "[-6, -5, 1, 2, 3]\n",
      "[-2, -10, 4, 2, 5]\n"
     ]
    }
   ],
   "source": [
    "#3\n",
    "\n",
    "def special_sort_3(lst):\n",
    "    \n",
    "    negative = [x for x in lst if x < 0]\n",
    "    positive = [y for y in lst if y > 0]\n",
    "    \n",
    "    return negative + positive\n",
    "\n",
    "cases = [[-1,1,3,-2,2], [-1, 3, -4, -2, 2, -5, 1],\n",
    "         [-6,1,-5,2,3], [-2, 4, 2, 5, -10]]\n",
    "\n",
    "for case in cases:\n",
    "    print special_sort_3(case) "
   ]
  }
 ],
 "metadata": {
  "kernelspec": {
   "display_name": "Python 2",
   "language": "python",
   "name": "python2"
  },
  "language_info": {
   "codemirror_mode": {
    "name": "ipython",
    "version": 2
   },
   "file_extension": ".py",
   "mimetype": "text/x-python",
   "name": "python",
   "nbconvert_exporter": "python",
   "pygments_lexer": "ipython2",
   "version": "2.7.12"
  }
 },
 "nbformat": 4,
 "nbformat_minor": 1
}
