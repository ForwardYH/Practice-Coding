{
 "cells": [
  {
   "cell_type": "markdown",
   "metadata": {},
   "source": [
    "# 숫자 출력하기\n",
    "\n",
    "* 20150111을 출력합니다.\n",
    "\n",
    "  4가지 기준만 만족하면 됩니다.\n",
    " \n",
    " ---\n",
    "\n",
    "    - 코드 내에 숫자가 없어야 합니다.\n",
    "    - 파일 이름이나 경로를 사용해서는 안됩니다.\n",
    "    - 시간, 날짜 함수를 사용해서는 안됩니다.\n",
    "    - 에러 번호 출력을 이용해서는 안됩니다"
   ]
  },
  {
   "cell_type": "code",
   "execution_count": 5,
   "metadata": {
    "collapsed": false
   },
   "outputs": [
    {
     "name": "stdout",
     "output_type": "stream",
     "text": [
      "20150111\n"
     ]
    }
   ],
   "source": [
    "case1 = [ord('C') - ord('A'), ord('A') - ord('A'), ord('B') - ord('A'), ord('F') - ord('A'),\n",
    "        ord('A') - ord('A'), ord('B') - ord('A'), ord('B') - ord('A'), ord('B') - ord('A')]\n",
    "test = [str(x) for x in case1]\n",
    "print ''.join(test)"
   ]
  },
  {
   "cell_type": "code",
   "execution_count": 6,
   "metadata": {
    "collapsed": false
   },
   "outputs": [
    {
     "name": "stdout",
     "output_type": "stream",
     "text": [
      "20150111\n"
     ]
    }
   ],
   "source": [
    "case2 = [str(ord('Z') - ord(x)) for x in ['F', 'K', 'Z', 'Y', 'O']]\n",
    "print ''.join(case2)"
   ]
  }
 ],
 "metadata": {
  "kernelspec": {
   "display_name": "Python 2",
   "language": "python",
   "name": "python2"
  },
  "language_info": {
   "codemirror_mode": {
    "name": "ipython",
    "version": 2
   },
   "file_extension": ".py",
   "mimetype": "text/x-python",
   "name": "python",
   "nbconvert_exporter": "python",
   "pygments_lexer": "ipython2",
   "version": "2.7.12"
  }
 },
 "nbformat": 4,
 "nbformat_minor": 1
}
