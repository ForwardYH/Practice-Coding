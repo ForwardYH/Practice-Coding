{
 "cells": [
  {
   "cell_type": "markdown",
   "metadata": {},
   "source": [
    "# 구글 입사문제 중에서\n",
    "\n",
    "\n",
    "* 1부터 10,000까지 8이라는 숫자가 총 몇번 나오는가?\n",
    "\n",
    "  8이 포함되어 있는 숫자의 갯수를 카운팅 하는 것이 아니라 8이라는 숫자를 모두 카운팅    해야 한다.\n",
    "  (※ 예를들어 8808은 3, 8888은 4로 카운팅 해야 함)"
   ]
  },
  {
   "cell_type": "code",
   "execution_count": 13,
   "metadata": {
    "collapsed": false
   },
   "outputs": [
    {
     "name": "stdout",
     "output_type": "stream",
     "text": [
      "Input Number : 8\n",
      "8이라는 숫자는 4000개 나옵니다.\n"
     ]
    }
   ],
   "source": [
    "M = int(raw_input('Input Number : '))\n",
    "num_dict = {x : 0 for x in range(0, 10)}\n",
    "for i in range(1, 10001):\n",
    "    str_num = str(i)\n",
    "    for j in str_num:\n",
    "        num_dict[int(j)] += 1\n",
    "\n",
    "print '8이라는 숫자는 ' + str(num_dict[M]) + '개 나옵니다.'\n",
    "\n",
    "            "
   ]
  },
  {
   "cell_type": "markdown",
   "metadata": {},
   "source": [
    "# 문자열 압축하기\n",
    "\n",
    "* 문자열을 입력받아서, 같은 문자가 연속적으로 반복되는 경우에 그 반복 횟수를 표시하여   문자열을 압축하기.\n",
    "\n",
    "  입력 예시: aaabbcccccca\n",
    "\n",
    "  출력 예시: a3b2c6a1"
   ]
  },
  {
   "cell_type": "code",
   "execution_count": 42,
   "metadata": {
    "collapsed": false
   },
   "outputs": [
    {
     "name": "stdout",
     "output_type": "stream",
     "text": [
      "a3b2c6a1\n"
     ]
    }
   ],
   "source": [
    "word = 'aaabbcccccca'\n",
    "def compress_word(word):\n",
    "    new = []\n",
    "    for i in word:\n",
    "        if len(new) > 0 and new[-2] == i:\n",
    "            new[-1] += 1\n",
    "\n",
    "        else:\n",
    "            new += [i, 1]\n",
    "    compress = ''.join(str(x) for x in new)\n",
    "    return compress\n",
    "print compress_word(word)\n"
   ]
  }
 ],
 "metadata": {
  "kernelspec": {
   "display_name": "Python 2",
   "language": "python",
   "name": "python2"
  },
  "language_info": {
   "codemirror_mode": {
    "name": "ipython",
    "version": 2
   },
   "file_extension": ".py",
   "mimetype": "text/x-python",
   "name": "python",
   "nbconvert_exporter": "python",
   "pygments_lexer": "ipython2",
   "version": "2.7.12"
  }
 },
 "nbformat": 4,
 "nbformat_minor": 1
}
