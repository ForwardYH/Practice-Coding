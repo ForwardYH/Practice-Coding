{
 "cells": [
  {
   "cell_type": "markdown",
   "metadata": {},
   "source": [
    "# Bubble sort\n",
    "\n",
    "\n",
    "* 거품 정렬(Bubble sort)은 두 인접한 원소를 검사하여 정렬하는 방법\n",
    "\n",
    "    * 시간 복잡도가 O(n^2)로 상당히 느림\n",
    "    * 원소의 이동이 거품이 수면으로 올라오는 듯한 모습을 보이기 때문에 지어진 이름.\n",
    "    \n",
    "    \n",
    "    \n",
    "* 배열을 소팅하는 것은 초보 프로그래머에게 유명한 문제이며 전문적인 프로그래밍(데이터베이스, 라이브러리등)에서도 매우 중요하게 다루어 진다.\n",
    "\n",
    "소팅은 비교에 기반을 두어 배열을 재 정렬하는 방법이다. 다음의 배열을 생각해 보자.\n",
    "\n",
    "a = [3, 1, 4, 1, 5, 9, 2, 6]\n",
    "\n",
    "우리는 이 배열을 크기 순서대로 정렬하고 싶다. (좌측의 요소는 우측의 요소보다 작거나 같아야 한다.)\n",
    "\n",
    "수학적으로 표현하자면 다음과 같다.\n",
    "\n",
    "i < j, a[i] <= a[j]\n",
    "인덱스 i가 j보다 작은 경우 배열의 값인 a[i]는 a[j]값보다 작거나 같아야 한다.\n",
    "\n",
    "버블소트(Bubble Sort)는 이러한 소팅을 하기 위한 가장 간단한 방법 중 하나이다. 그 간단한 방법은 다음과 같다:\n",
    "\n",
    "배열을 따라가며 인접한 쌍을 찾는다. (N개의 배열이 있을 경우 N-1개의 쌍이 존재하게 된다)\n",
    "만약 a[i] <= a[i+1] 을 만족하지 않는 쌍을 찾게 되면 두 개의 값을 서로 바꾸어준다. (Swap)\n",
    "더 이상 바꾸어야 할 쌍이 존재하지 않을 때까지 1번, 2번을 반복한다. (Loop)\n",
    "i와 j라는 인덱스를 가진 두 개의 값을 서로 바꾸기(Swap) 위해서는 몇가지 방법이 있는데 임시 변수를 사용하는 예는 다음과 같다:\n",
    "\n",
    "* t = a[i]\n",
    "* a[i] = a[j]\n",
    "* a[j] = t\n",
    "입력과 출력\n",
    "\n",
    "입력 데이터의 첫번째 라인은 배열의 갯수를 의미하며 두번째 라인은 배열의 요소값을 의미한다.\n",
    "\n",
    "출력 데이터는 두개의 값으로 이루어진다.\n",
    "첫번째 값은 배열을 따라 진행(Loop)한 횟수이며 두번째 값은 Swap이 발생한 총 횟수이다.\n",
    "\n",
    "다음은 입출력 예제이다:\n",
    "\n",
    "input data:\n",
    "8\n",
    "\n",
    "3 1 4 1 5 9 2 6\n",
    "\n",
    "answer:\n",
    "5 8"
   ]
  },
  {
   "cell_type": "code",
   "execution_count": 10,
   "metadata": {
    "collapsed": false
   },
   "outputs": [
    {
     "name": "stdout",
     "output_type": "stream",
     "text": [
      "([1, 1, 2, 3, 4, 5, 6, 9], 5, 8)\n"
     ]
    }
   ],
   "source": [
    "def bubble_sort(lst):\n",
    "    swap_num = 0\n",
    "    loop_num = 0\n",
    "    lst_length = len(lst) - 1\n",
    "    for i in range(lst_length):\n",
    "        loop_num += 1\n",
    "        new_swap = swap_num\n",
    "        for j in range(lst_length - i):\n",
    "            \n",
    "            if lst[j] > lst[j+1]:\n",
    "                temp = lst[j]\n",
    "                lst[j] = lst[j+1]\n",
    "                lst[j+1] = temp\n",
    "                swap_num += 1\n",
    "                \n",
    "        if new_swap == swap_num:\n",
    "            break\n",
    "        \n",
    " \n",
    "        \n",
    "    return lst, loop_num, swap_num\n",
    "                \n",
    "\n",
    "lst = [3,1,4,1,5,9,2,6]\n",
    "print bubble_sort(lst)\n"
   ]
  },
  {
   "cell_type": "code",
   "execution_count": null,
   "metadata": {
    "collapsed": true
   },
   "outputs": [],
   "source": []
  }
 ],
 "metadata": {
  "kernelspec": {
   "display_name": "Python 2",
   "language": "python",
   "name": "python2"
  },
  "language_info": {
   "codemirror_mode": {
    "name": "ipython",
    "version": 2
   },
   "file_extension": ".py",
   "mimetype": "text/x-python",
   "name": "python",
   "nbconvert_exporter": "python",
   "pygments_lexer": "ipython2",
   "version": "2.7.12"
  }
 },
 "nbformat": 4,
 "nbformat_minor": 1
}
