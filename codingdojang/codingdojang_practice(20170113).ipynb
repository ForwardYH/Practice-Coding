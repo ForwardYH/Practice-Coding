{
 "cells": [
  {
   "cell_type": "markdown",
   "metadata": {},
   "source": [
    "# 3이 나타나는 시간을 전부 합하면?\n",
    "\n",
    "\n",
    "* 디지털 시계에 하루동안(00:00~23:59) 3이 표시되는 시간을 초로 환산하면 총 몇 초(second) 일까요?\n",
    "\n",
    "    디지털 시계는 하루동안 다음과 같이 시:분(00:00~23:59)으로 표시됩니다.\n",
    "    \n",
    "-    00:00 (60초간 표시됨)\n",
    "-    00:01 \n",
    "-    00:02 \n",
    "-    ...\n",
    "-    23:59"
   ]
  },
  {
   "cell_type": "code",
   "execution_count": 7,
   "metadata": {
    "collapsed": false
   },
   "outputs": [
    {
     "name": "stdout",
     "output_type": "stream",
     "text": [
      "3이 나타나는 시간을 전부 합하면 : 29700초\n"
     ]
    }
   ],
   "source": [
    "second = 0\n",
    "for hour in range(24):\n",
    "    str_hour = str(hour)\n",
    "    if '3' in str_hour:\n",
    "        second += (60*60)\n",
    "    else:   \n",
    "        for minute in range(60):\n",
    "            str_minute = str(minute)\n",
    "            if '3' in str_minute:\n",
    "                second += 60\n",
    "\n",
    "print '3이 나타나는 시간을 전부 합하면 :' ,str(second)+'초' \n",
    "    \n",
    "        "
   ]
  },
  {
   "cell_type": "code",
   "execution_count": null,
   "metadata": {
    "collapsed": true
   },
   "outputs": [],
   "source": []
  }
 ],
 "metadata": {
  "kernelspec": {
   "display_name": "Python 2",
   "language": "python",
   "name": "python2"
  },
  "language_info": {
   "codemirror_mode": {
    "name": "ipython",
    "version": 2
   },
   "file_extension": ".py",
   "mimetype": "text/x-python",
   "name": "python",
   "nbconvert_exporter": "python",
   "pygments_lexer": "ipython2",
   "version": "2.7.12"
  }
 },
 "nbformat": 4,
 "nbformat_minor": 1
}
