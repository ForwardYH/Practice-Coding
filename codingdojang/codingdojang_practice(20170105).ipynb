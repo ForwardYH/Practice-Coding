{
 "cells": [
  {
   "cell_type": "markdown",
   "metadata": {},
   "source": [
    "# 게시판 페이징\n",
    "\n",
    "\n",
    "* A씨는 게시판 프로그램을 작성하고 있다.\n",
    "\n",
    "* A씨는 게시물의 총 건수와 한 페이지에 보여줄 게시물수를 입력으로 주었을 때 총 페이지수를 리턴하는 프로그램이 필요하다고 한다.\n",
    "\n",
    "* 입력 : 총건수(m), 한페이지에 보여줄 게시물수(n) (단 n은 1보다 크거나 같다. n >= 1)\n",
    "* 출력 : 총페이지수"
   ]
  },
  {
   "cell_type": "code",
   "execution_count": 139,
   "metadata": {
    "collapsed": false
   },
   "outputs": [
    {
     "name": "stdout",
     "output_type": "stream",
     "text": [
      "0 page\n",
      "1 page\n",
      "2 page\n",
      "1 page\n",
      "1 page\n",
      "2 page\n",
      "3 page\n"
     ]
    }
   ],
   "source": [
    "def paging_program(m, n): \n",
    "    page =  m // n\n",
    "\n",
    "    if m % n > 0:\n",
    "        page += 1\n",
    "\n",
    "    return page\n",
    "\n",
    "print paging_program(0, 1), 'page'\n",
    "print paging_program(1, 1), 'page'\n",
    "print paging_program(2, 1), 'page'\n",
    "print paging_program(1, 10), 'page'  \n",
    "print paging_program(10, 10), 'page'\n",
    "print paging_program(11, 10), 'page'    \n",
    "print paging_program(21, 10), 'page'            \n"
   ]
  },
  {
   "cell_type": "code",
   "execution_count": null,
   "metadata": {
    "collapsed": true
   },
   "outputs": [],
   "source": []
  }
 ],
 "metadata": {
  "kernelspec": {
   "display_name": "Python 2",
   "language": "python",
   "name": "python2"
  },
  "language_info": {
   "codemirror_mode": {
    "name": "ipython",
    "version": 2
   },
   "file_extension": ".py",
   "mimetype": "text/x-python",
   "name": "python",
   "nbconvert_exporter": "python",
   "pygments_lexer": "ipython2",
   "version": "2.7.12"
  }
 },
 "nbformat": 4,
 "nbformat_minor": 1
}
