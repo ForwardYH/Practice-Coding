{
 "cells": [
  {
   "cell_type": "markdown",
   "metadata": {},
   "source": [
    "# Dash Insert\n",
    "\n",
    "* DashInsert 함수는 숫자로 구성된 문자열을 입력받은 뒤, 문자열 내에서 홀수가 연속되면 두 수 사이에 - 를 추가하고, 짝수가 연속되면  ** 를 추가하는 기능을 갖고 있다. (예, 454 => 454, 4546793 => 454*67-9-3) DashInsert 함수를 완성하자.\n",
    "\n",
    "  입력 - 화면에서 숫자로 된 문자열을 입력받는다.\n",
    "  \n",
    "  \n",
    "* \"4546793\"\n",
    "   * 출력 - *, -가 적절히 추가된 문자열을 화면에 출력한다.\n",
    "       *  \"454*67-9-3\""
   ]
  },
  {
   "cell_type": "code",
   "execution_count": 25,
   "metadata": {
    "collapsed": false
   },
   "outputs": [
    {
     "name": "stdout",
     "output_type": "stream",
     "text": [
      "454*67-9-3\n"
     ]
    }
   ],
   "source": [
    "def dash_insert(word):\n",
    "    new = ''\n",
    "    for i in range(len(word)-1):\n",
    "        new += word[i]\n",
    "            \n",
    "        if int(word[i]) % 2 == 0 and int(word[i+1]) % 2 == 0:            \n",
    "            new += '*' \n",
    "            \n",
    "        elif int(word[i]) % 2 != 0 and int(word[i+1]) %2 != 0:\n",
    "            new +='-'\n",
    "            \n",
    "    new += word[i+1]\n",
    "            \n",
    "    return new\n",
    "\n",
    "word = '4546793'\n",
    "print dash_insert(word)"
   ]
  },
  {
   "cell_type": "code",
   "execution_count": null,
   "metadata": {
    "collapsed": true
   },
   "outputs": [],
   "source": []
  }
 ],
 "metadata": {
  "kernelspec": {
   "display_name": "Python 2",
   "language": "python",
   "name": "python2"
  },
  "language_info": {
   "codemirror_mode": {
    "name": "ipython",
    "version": 2
   },
   "file_extension": ".py",
   "mimetype": "text/x-python",
   "name": "python",
   "nbconvert_exporter": "python",
   "pygments_lexer": "ipython2",
   "version": "2.7.12"
  }
 },
 "nbformat": 4,
 "nbformat_minor": 1
}
