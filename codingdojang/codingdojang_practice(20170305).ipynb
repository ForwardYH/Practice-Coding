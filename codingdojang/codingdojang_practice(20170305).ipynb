{
 "cells": [
  {
   "cell_type": "markdown",
   "metadata": {},
   "source": [
    "# 숫자에 콤마 삽입하기\n",
    "\n",
    "* 숫자 형태의 문자열을 콤마가 포함된 금액 표기식 문자열로 바꾸어주는 프로그램을 작성하시오.\n",
    "\n",
    "※ 단, 프로그래밍 언어에서 지원하는 금액변환 라이브러리는 사용하지 말것\n",
    "\n",
    "예)\n",
    "\n",
    "| **숫자**          | **금액**          |\n",
    "|:-------------:|:-------------:|\n",
    "| 1000     | 1,000 |\n",
    "| 20000000      | 20,000,000     |\n",
    "| -3245.24 | -3,245.24     |\n"
   ]
  },
  {
   "cell_type": "code",
   "execution_count": 85,
   "metadata": {
    "collapsed": false
   },
   "outputs": [
    {
     "name": "stdout",
     "output_type": "stream",
     "text": [
      "Please input M : 4\n",
      "4 count run\n",
      "Converting....... : 1000\n",
      " 1,000\n",
      "Converting....... : 20000000\n",
      " 20,000,000\n",
      "Converting....... : -3245.24\n",
      " -3,245.24\n",
      "Converting....... : 15000000\n",
      " 15,000,000\n"
     ]
    }
   ],
   "source": [
    "def convert_money_write(money):\n",
    "    str_money = str(money)\n",
    "    new = ''\n",
    "    count_comma = 0\n",
    "    case_not_dot_count = 0\n",
    "    case_dot_count = 0\n",
    "\n",
    "    for i, _ in enumerate(str_money):\n",
    "        if '.' not in str_money:\n",
    "            new += str_money[-(i + 1)]\n",
    "            case_not_dot_count += 1\n",
    "            subtraction = len(str_money) - (len(new) - count_comma)\n",
    "            if case_not_dot_count != 0 and case_not_dot_count % 3 == 0:\n",
    "                if subtraction != 0:\n",
    "                    new += ','\n",
    "                    count_comma += 1\n",
    "\n",
    "        else:\n",
    "            new += str_money[-(i + 1)]\n",
    "            case_dot_count += 1\n",
    "            subtraction = len(str_money) - (len(new) - count_comma)\n",
    "\n",
    "            if str_money[-(i + 1)] == '.':\n",
    "                include_dot_length = len(new)\n",
    "                case_dot_count = len(new) - include_dot_length\n",
    "            else:\n",
    "                if case_dot_count != 0 and case_dot_count % 3 == 0:\n",
    "                    if subtraction != 0:\n",
    "                        new += ','\n",
    "                        count_comma += 1\n",
    "\n",
    "    write_money_method = new[::-1]\n",
    "\n",
    "    return write_money_method\n",
    "\n",
    "\n",
    "M = input(\"Please input M : \")\n",
    "print '{} count run'.format(M)\n",
    "while M > 0:\n",
    "    for _ in xrange(M):\n",
    "        print 'Converting....... : ', convert_money_write(input())\n",
    "        M -= 1\n"
   ]
  }
 ],
 "metadata": {
  "kernelspec": {
   "display_name": "Python 2",
   "language": "python",
   "name": "python2"
  },
  "language_info": {
   "codemirror_mode": {
    "name": "ipython",
    "version": 2
   },
   "file_extension": ".py",
   "mimetype": "text/x-python",
   "name": "python",
   "nbconvert_exporter": "python",
   "pygments_lexer": "ipython2",
   "version": "2.7.12"
  }
 },
 "nbformat": 4,
 "nbformat_minor": 1
}
