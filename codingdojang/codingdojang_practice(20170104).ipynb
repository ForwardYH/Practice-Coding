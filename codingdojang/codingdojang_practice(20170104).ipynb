{
 "cells": [
  {
   "cell_type": "markdown",
   "metadata": {},
   "source": [
    "# 10~1000까지 각 숫자 분해하여 곱하기의 전체 합 구하기"
   ]
  },
  {
   "cell_type": "markdown",
   "metadata": {},
   "source": [
    "예로, 10~15까지의 각 숫자 분해하여 곱하기의 전체 합은 다음과 같다.\n",
    "\n",
    "- 10 = 1 * 0 = 0\n",
    "- 11 = 1 * 1 = 1\n",
    "- 12 = 1 * 2 = 2\n",
    "- 13 = 1 * 3 = 3\n",
    "- 14 = 1 * 4 = 4\n",
    "- 15 = 1 * 5 = 5\n",
    "\n",
    "그러므로, 이 경우의 답은 0+1+2+3+4+5 = 15"
   ]
  },
  {
   "cell_type": "code",
   "execution_count": 29,
   "metadata": {
    "collapsed": false
   },
   "outputs": [
    {
     "name": "stdout",
     "output_type": "stream",
     "text": [
      "93150\n"
     ]
    }
   ],
   "source": [
    "s = 0\n",
    "for i in range(10, 1001):\n",
    "    str_num = str(i)\n",
    "    mul = 1\n",
    "    for j in str_num:\n",
    "         mul *= int(j)\n",
    "    s += mul\n",
    "    \n",
    "\n",
    "print s\n",
    "        \n",
    "\n",
    "            \n",
    "        "
   ]
  }
 ],
 "metadata": {
  "kernelspec": {
   "display_name": "Python 2",
   "language": "python",
   "name": "python2"
  },
  "language_info": {
   "codemirror_mode": {
    "name": "ipython",
    "version": 2
   },
   "file_extension": ".py",
   "mimetype": "text/x-python",
   "name": "python",
   "nbconvert_exporter": "python",
   "pygments_lexer": "ipython2",
   "version": "2.7.12"
  }
 },
 "nbformat": 4,
 "nbformat_minor": 1
}
