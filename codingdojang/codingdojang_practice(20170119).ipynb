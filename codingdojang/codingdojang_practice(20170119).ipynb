{
 "cells": [
  {
   "cell_type": "markdown",
   "metadata": {},
   "source": [
    "# 초완전수\n",
    "\n",
    "\n",
    "* 자연수 n이 있다. f(n)=(n의 양의 약수의 합)이라고고 하자. 자연수 n이 어떤 k에 대하여 등식 n = 1 + k(f(n)-n-1)을 만족했을 때, n을 k-초완전수라고 부른다. n이 완전수라는 것은 n이 1-초완전수라는 것이라는 명제와 동치이다. 예를 들어, 21은 2-초완전수이고 301은 6-초완전수이다. 자연수 N을 입력받고 N 이하의 k-초완전수와 그때의 k를 순서쌍으로 출력하는 프로그램을 작성하라.\n",
    "\n",
    "    <예시> 1. 입력 1000 2. 출력 (6,1) (21,2) (28,1) (301,6) (325,3) (496,1) (697,12)\n",
    "\n"
   ]
  },
  {
   "cell_type": "code",
   "execution_count": 37,
   "metadata": {
    "collapsed": false
   },
   "outputs": [
    {
     "name": "stdout",
     "output_type": "stream",
     "text": [
      "Please Input number : 1000\n",
      "(6, 1)\n",
      "(21, 2)\n",
      "(28, 1)\n",
      "(301, 6)\n",
      "(325, 3)\n",
      "(496, 1)\n",
      "(697, 12)\n"
     ]
    }
   ],
   "source": [
    "def super_perfect_number(N):\n",
    "    for i in range(2, N+1):\n",
    "        f_n = 0\n",
    "        for j in range(1, i+1):\n",
    "            if i % j == 0:\n",
    "                f_n += j\n",
    "        if f_n - i - 1 != 0 :  \n",
    "            k = (i - 1) / (f_n - i - 1)\n",
    "            if i == 1 + (k * (f_n - i - 1)):\n",
    "    \n",
    "                print (i, k)\n",
    "        else:\n",
    "            continue\n",
    "N = int(raw_input('Please Input number : '))\n",
    "super_perfect_number(N)\n",
    "                "
   ]
  }
 ],
 "metadata": {
  "kernelspec": {
   "display_name": "Python 2",
   "language": "python",
   "name": "python2"
  },
  "language_info": {
   "codemirror_mode": {
    "name": "ipython",
    "version": 2
   },
   "file_extension": ".py",
   "mimetype": "text/x-python",
   "name": "python",
   "nbconvert_exporter": "python",
   "pygments_lexer": "ipython2",
   "version": "2.7.12"
  }
 },
 "nbformat": 4,
 "nbformat_minor": 1
}
