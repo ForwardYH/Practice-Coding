{
 "cells": [
  {
   "cell_type": "markdown",
   "metadata": {},
   "source": [
    "# 3n+1 Problem\n",
    "\n",
    "\n",
    "* 어떤 정수 n에서 시작해, n이 짝수면 2로 나누고, 홀수면 3을 곱한 다음 1을 더한다. 이렇게 해서 새로 만들어진 숫자를 n으로 놓고, n=1 이 될때까지 같은 작업을 계속 반복한다. 예를 들어, n=22이면 다음과 같은 수열이 만들어진다.\n",
    "\n",
    "---\n",
    "\n",
    "* n이라는 값이 입력되었을때 1이 나올때까지 만들어진 수의 개수(1을 포함)를 n의 사이클 길이라고 한다. 위에 있는 수열을 예로 들면 22의 사이클 길이는 16이다. i와 j라는 두개의 수가 주어졌을때, i와 j사이의 모든 수(i, j포함)에 대해 최대 사이클 길이를 구하라.\n",
    "\n",
    "\n"
   ]
  },
  {
   "cell_type": "code",
   "execution_count": 202,
   "metadata": {
    "collapsed": false
   },
   "outputs": [
    {
     "name": "stdout",
     "output_type": "stream",
     "text": [
      "입력 값\n",
      "--------------------------------------------------\n",
      "1, 10\n",
      "100, 200\n",
      "201, 210\n",
      "900, 1000\n",
      "--------------------------------------------------\n",
      "1과 10 사이의 모든 수에 대한 최대 사이클 길이 :20\n",
      "100과 200 사이의 모든 수에 대한 최대 사이클 길이 :125\n",
      "201과 210 사이의 모든 수에 대한 최대 사이클 길이 :89\n",
      "900과 1000 사이의 모든 수에 대한 최대 사이클 길이 :174\n"
     ]
    }
   ],
   "source": [
    "def cycle_length(left, right):\n",
    "    each_num_lst = []\n",
    "    for i in range(left, right+1):\n",
    "        val_count = 1\n",
    "        val_count_lst = []\n",
    "        val_count_lst.append(i)\n",
    "        while i != 1:     \n",
    "            if i % 2 == 0:\n",
    "                i = i / 2\n",
    "                val_count_lst.append(i)\n",
    "            elif i % 2 != 0:\n",
    "                i = 3 * i + 1\n",
    "                val_count_lst.append(i)                \n",
    "            \n",
    "            val_count += 1\n",
    "                        \n",
    "        each_num_lst.append(val_count_lst)\n",
    "    \n",
    "    each_num_length_lst = []\n",
    "    \n",
    "    for j in range(len(each_num_lst)):\n",
    "        each_num_length_lst.append(len(each_num_lst[j]))                \n",
    "\n",
    "    max_length = max(each_num_length_lst)   \n",
    "    \n",
    "    return str(max_length)\n",
    "print '입력 값'\n",
    "print '-' * 50\n",
    "left1, right1 = map(int, raw_input().split(','))\n",
    "left2, right2 = map(int, raw_input().split(','))\n",
    "left3, right3 = map(int, raw_input().split(','))\n",
    "left4, right4 = map(int, raw_input().split(','))\n",
    "print '-' * 50\n",
    "print '{}과 {} 사이의 모든 수에 대한 최대 사이클 길이 :'.format(left1, right1) + cycle_length(left1, right1)\n",
    "print '{}과 {} 사이의 모든 수에 대한 최대 사이클 길이 :'.format(left2, right2) + cycle_length(left2, right2)\n",
    "print '{}과 {} 사이의 모든 수에 대한 최대 사이클 길이 :'.format(left3, right3) + cycle_length(left3, right3)\n",
    "print '{}과 {} 사이의 모든 수에 대한 최대 사이클 길이 :'.format(left4, right4) + cycle_length(left4, right4)"
   ]
  },
  {
   "cell_type": "code",
   "execution_count": null,
   "metadata": {
    "collapsed": true
   },
   "outputs": [],
   "source": []
  }
 ],
 "metadata": {
  "kernelspec": {
   "display_name": "Python 2",
   "language": "python",
   "name": "python2"
  },
  "language_info": {
   "codemirror_mode": {
    "name": "ipython",
    "version": 2
   },
   "file_extension": ".py",
   "mimetype": "text/x-python",
   "name": "python",
   "nbconvert_exporter": "python",
   "pygments_lexer": "ipython2",
   "version": "2.7.12"
  }
 },
 "nbformat": 4,
 "nbformat_minor": 1
}
