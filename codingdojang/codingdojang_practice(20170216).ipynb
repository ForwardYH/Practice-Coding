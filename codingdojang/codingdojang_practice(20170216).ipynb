{
 "cells": [
  {
   "cell_type": "markdown",
   "metadata": {},
   "source": [
    "# Primary Arithmetic\n",
    "\n",
    "첫 번째 계산\n",
    "\n",
    "아이들은 여러 자리 숫자들을 더하기 위해서 우에서 좌로 숫자를 하나씩 차례대로 더 하라고 배웠다. 1을 한 숫자 위치에서 다음 자리로 더하기위해 이동하는 \"한자리올림\"연산을 많이 발견하는 것은 중요한 도전이 된다. 당신의 일은 교육자가 그들의 어려움을 평가하기 위하여, 덧셈 문제들의 각 집합에 대해서 한자리올림 연산들의 수를 계산하는 것이다.\n",
    "\n",
    "입력\n",
    "\n",
    "입력의 각 라인은 10개의 숫자들보다 미만인 양의 정수들 두 개를 포함한다. 입력의 마지막 라인은 0 0 을 포한한다.\n",
    "\n",
    "출력\n",
    "\n",
    "마지막을 제외한 입력의 각 라인에 대해서 당신은 두 숫자들을 더한 결과에서 한자리올림 연산들의 수를 아래 처럼 보여지는 형식으로 계산하여 출력해야 한다.\n",
    "\n",
    "* 입력 샘플\n",
    "\n",
    "    - 123 456 \n",
    "    - 555 555 \n",
    "    - 123 594 \n",
    "    - 0 0\n",
    "\n",
    "* 출력 샘플\n",
    "\n",
    "    - No carry operation. \n",
    "    - 3 carry operations. \n",
    "    - 1 carry operation.\n"
   ]
  },
  {
   "cell_type": "code",
   "execution_count": 21,
   "metadata": {
    "collapsed": false
   },
   "outputs": [
    {
     "name": "stdout",
     "output_type": "stream",
     "text": [
      "input number : 123 456\n",
      "No carry operation\n",
      "input number : 555 555\n",
      "3 carry operations\n",
      "input number : 123 594\n",
      "1 carry operation\n",
      "input number : 888 122\n",
      "3 carry operations\n",
      "input number : 9999 111\n",
      "4 carry operations\n",
      "input number : 0 0\n"
     ]
    }
   ],
   "source": [
    "def primary_arithmetic(left, right):\n",
    "    \n",
    "    count = 0\n",
    "    regrouping = 0\n",
    "    \n",
    "    for case1,case2 in zip(left[::-1], right[::-1]):\n",
    "        if int(case1) + int(case2) + regrouping >= 10:\n",
    "            count += 1\n",
    "            regrouping = 1\n",
    "        else:\n",
    "            regrouping = 0\n",
    "          \n",
    "    if count == 0:\n",
    "        return 'No carry operation'\n",
    "\n",
    "    else:\n",
    "        if count > 1:\n",
    "            return '{} carry operations'.format(count)\n",
    "\n",
    "        else:\n",
    "            return '{} carry operation'.format(count)\n",
    "    \n",
    "left, right = map(int, raw_input('input number : ').split())        \n",
    "while all((left, right)):\n",
    "    left_v, right_v = str(left), str(right)\n",
    "    print primary_arithmetic('0' * len(right_v) + left_v, '0' * len(left_v) + right_v)\n",
    "    left, right = map(int, raw_input('input number : ').split())"
   ]
  }
 ],
 "metadata": {
  "kernelspec": {
   "display_name": "Python 2",
   "language": "python",
   "name": "python2"
  },
  "language_info": {
   "codemirror_mode": {
    "name": "ipython",
    "version": 2
   },
   "file_extension": ".py",
   "mimetype": "text/x-python",
   "name": "python",
   "nbconvert_exporter": "python",
   "pygments_lexer": "ipython2",
   "version": "2.7.12"
  }
 },
 "nbformat": 4,
 "nbformat_minor": 1
}
