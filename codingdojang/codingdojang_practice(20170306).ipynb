{
 "cells": [
  {
   "cell_type": "markdown",
   "metadata": {},
   "source": [
    "# An Easy Problem\n",
    "\n",
    "아시다시피, 데이터는 컴퓨터에 이진수 형태로 저장됩니다. 우리가 토론할 문제는 양의 정수와 이 수의 이진 형태입니다.\n",
    "\n",
    "양의 정수 I가 주어지면, 당신이 할 일은 I보다 큰 수 중 가장 작은 수 J를 찾습니다. I의 이진수 형태에서의 1의 개수와 J의 이진수 형태에서의 1의 개수는 일치합니다.\n",
    "\n",
    "예를들어, \"78\"이 주어지면, 여러분은 \"1001110\"과 같은 이진수 형태로 쓸 수 있습니다. 이 이진수는 4개의 1을 가지고 있습니다. \"1001110\" 보다 크고 4개의 1을 포함하는 가장 작은 정수는 \"1010011\"입니다. 출력값은 \"83\"이 되어야 합니다.\n",
    "\n",
    "Input\n",
    "\n",
    "각 줄에 한개의 정수를 입력할 수 있습니다. (1 <= I <= 1000000)\n",
    "0이 나오면 입력을 종료합니다. 이 줄은 작업할 필요 없습니다.\n",
    "\n",
    "Output\n",
    "\n",
    "각 줄에 한개의 정수를 출력하면 됩니다.\n",
    "\n",
    "* Sample Input\n",
    "\n",
    "    - 1\n",
    "    - 2\n",
    "    - 3\n",
    "    - 4\n",
    "    - 78\n",
    "    - 0\n",
    "\n",
    "* Sample Output\n",
    "\n",
    "    - 2\n",
    "    - 4\n",
    "    - 5\n",
    "    - 8\n",
    "    - 83"
   ]
  },
  {
   "cell_type": "code",
   "execution_count": 25,
   "metadata": {
    "collapsed": false
   },
   "outputs": [
    {
     "name": "stdout",
     "output_type": "stream",
     "text": [
      "Input number : 1\n",
      "Answer is..... 2\n",
      "Input number : 2\n",
      "Answer is..... 4\n",
      "Input number : 3\n",
      "Answer is..... 5\n",
      "Input number : 4\n",
      "Answer is..... 8\n",
      "Input number : 78\n",
      "Answer is..... 83\n",
      "Input number : 0\n"
     ]
    }
   ],
   "source": [
    "def make_binary_num(number, base=2):\n",
    "    case = '01'\n",
    "    q, r = divmod(number, base)\n",
    "    if q == 0:\n",
    "        return case[r]\n",
    "    else:\n",
    "        return make_binary_num(q, base) + case[r]\n",
    "\n",
    "\n",
    "def check_one(number):\n",
    "    check_one_count = 0\n",
    "    for _, val in enumerate(number):\n",
    "        if val == '1':\n",
    "            check_one_count += 1\n",
    "\n",
    "    return check_one_count\n",
    "\n",
    "\n",
    "def solve_problem():\n",
    "    M = int(raw_input('Input number : '))\n",
    "    start = M\n",
    "    n = start\n",
    "    while any((M, 0)):\n",
    "        check_1 = make_binary_num(start, 2)\n",
    "        check_2 = make_binary_num(n, 2)\n",
    "        if check_one(check_1) == check_one(check_2) and start < n:\n",
    "            print 'Answer is.....', n\n",
    "            M = int(raw_input('Input number : '))\n",
    "            start = M\n",
    "            n = start\n",
    "        else:\n",
    "            n += 1\n",
    "\n",
    "\n",
    "if __name__ == '__main__':\n",
    "    solve_problem()"
   ]
  }
 ],
 "metadata": {
  "kernelspec": {
   "display_name": "Python 2",
   "language": "python",
   "name": "python2"
  },
  "language_info": {
   "codemirror_mode": {
    "name": "ipython",
    "version": 2
   },
   "file_extension": ".py",
   "mimetype": "text/x-python",
   "name": "python",
   "nbconvert_exporter": "python",
   "pygments_lexer": "ipython2",
   "version": "2.7.12"
  }
 },
 "nbformat": 4,
 "nbformat_minor": 1
}
