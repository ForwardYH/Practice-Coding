{
 "cells": [
  {
   "cell_type": "markdown",
   "metadata": {},
   "source": [
    "# 피보나치 수열 구하기\n",
    "\n",
    "* 피보나치 수열이란, 첫 번째 항의 값이 0이고 두 번째 항의 값이 1일 때, 이후의 항들은 이전의 두 항을 더한 값으로 이루어지는 수열을 말한다.\n",
    "\n",
    "  예) 0, 1, 1, 2, 3, 5, 8, 13\n",
    "\n",
    "  인풋을 정수 n으로 받았을때, n 이하까지의 피보나치 수열을 출력하는 프로그램을 작성하세요"
   ]
  },
  {
   "cell_type": "code",
   "execution_count": 3,
   "metadata": {
    "collapsed": false
   },
   "outputs": [
    {
     "name": "stdout",
     "output_type": "stream",
     "text": [
      "Input Number : 200\n",
      "200이하 까지의 피보나치 수열 : [0, 1, 1, 2, 3, 5, 8, 13, 21, 34, 55, 89, 144]\n"
     ]
    }
   ],
   "source": [
    "M = int(raw_input(\"Input Number : \"))\n",
    "\n",
    "def fibonacci(M):\n",
    "    a = 0\n",
    "    b = 1\n",
    "    total = a + b\n",
    "    fibo_lst = []\n",
    "    fibo_lst.append(a)\n",
    "    while total <= M:\n",
    "        a, b = b, a + b\n",
    "        total = b\n",
    "        fibo_lst.append(a)\n",
    "            \n",
    "    return fibo_lst\n",
    "\n",
    "print '{}이하 까지의 피보나치 수열 :'.format(M), fibonacci(M)"
   ]
  },
  {
   "cell_type": "code",
   "execution_count": null,
   "metadata": {
    "collapsed": true
   },
   "outputs": [],
   "source": []
  }
 ],
 "metadata": {
  "kernelspec": {
   "display_name": "Python 2",
   "language": "python",
   "name": "python2"
  },
  "language_info": {
   "codemirror_mode": {
    "name": "ipython",
    "version": 2
   },
   "file_extension": ".py",
   "mimetype": "text/x-python",
   "name": "python",
   "nbconvert_exporter": "python",
   "pygments_lexer": "ipython2",
   "version": "2.7.12"
  }
 },
 "nbformat": 4,
 "nbformat_minor": 1
}
