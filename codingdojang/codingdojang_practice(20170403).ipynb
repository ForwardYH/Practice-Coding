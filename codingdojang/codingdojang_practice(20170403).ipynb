{
 "cells": [
  {
   "cell_type": "markdown",
   "metadata": {},
   "source": [
    "# 놀이공원 인형 맞추기\n",
    "\n",
    "\n",
    "놀이공원에 가면 인형 맞추기 게임이 있다.\n",
    "\n",
    "한 놀이공원에는 인형에 숫자를 써놓고 인형 맞추기를 한다.\n",
    "\n",
    "그런데 맞춘 인형의 숫자의 합이 특정한 값이 되는 경우에만 맞춘 인형을 가져 갈 수 있다.\n",
    "\n",
    "가령 10개의 인형에 쓰여진 숫자가 각각 25 27 3 12 6 15 9 30 21 19이고 숫자의 합이 50이 되는 경우만 인형을 가져갈수 있다면 6 19 25가 쓰여진 인형을 맞춰야 인형을 가져 갈 수 있다.\n",
    "\n",
    "이때 인형의 갯수와 각각의 숫자와 필요한 합을 입력받으면 맞춰야 하는 인형의 숫자를 출력하는 프로그램을 작성해 보자.\n",
    "\n",
    "- 입력 - 첫줄에는 인형의 갯수와 필요한 합, 둘째줄에는 인형 각각에 쓰여진 숫자\n",
    "\n",
    "    - 예)\n",
    "\n",
    "       - 10 50\n",
    "\n",
    "       - 25 27 3 12 6 15 9 30 21 19\n",
    "\n",
    "- 출력 - 필요한 합이 되는 인형 각각의 숫자를 오름차순으로 출력\n",
    "\n",
    "    - 예)\n",
    "\n",
    "        - 6 19 25"
   ]
  },
  {
   "cell_type": "code",
   "execution_count": 31,
   "metadata": {
    "collapsed": true
   },
   "outputs": [],
   "source": [
    "from itertools import combinations"
   ]
  },
  {
   "cell_type": "code",
   "execution_count": 90,
   "metadata": {
    "collapsed": false
   },
   "outputs": [
    {
     "name": "stdout",
     "output_type": "stream",
     "text": [
      "10 50\n",
      "25 27 3 12 6 15 9 30 21 19\n",
      "6 19 25\n"
     ]
    }
   ],
   "source": [
    "def find_doll(lst, target):\n",
    "    count = 1\n",
    "    while count != len(lst):\n",
    "        lst_combinations = list(combinations(lst, count))\n",
    "        for factor in lst_combinations:\n",
    "            if sum(factor) == target:\n",
    "                yield factor\n",
    "        else:\n",
    "            count += 1\n",
    "\n",
    "def main():\n",
    "    number_of_dolls, target_summation = map(int, raw_input().split())\n",
    "    number = map(int, raw_input().split())\n",
    "    written_number_list = (number if len(number) == number_of_dolls else 0)\n",
    "    find_doll_object = find_doll(written_number_list, target_summation)\n",
    "    for result in find_doll_object:\n",
    "        print ' '.join(sorted([str(x) for x in result], key = lambda x : int(x)))\n",
    "\n",
    "if __name__ == '__main__':\n",
    "    main()"
   ]
  }
 ],
 "metadata": {
  "kernelspec": {
   "display_name": "Python 2",
   "language": "python",
   "name": "python2"
  },
  "language_info": {
   "codemirror_mode": {
    "name": "ipython",
    "version": 2
   },
   "file_extension": ".py",
   "mimetype": "text/x-python",
   "name": "python",
   "nbconvert_exporter": "python",
   "pygments_lexer": "ipython2",
   "version": "2.7.12"
  }
 },
 "nbformat": 4,
 "nbformat_minor": 1
}
