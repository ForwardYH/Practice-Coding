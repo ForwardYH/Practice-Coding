{
 "cells": [
  {
   "cell_type": "markdown",
   "metadata": {},
   "source": [
    "# 1. 1~1000에서 각 숫자의 개수 구하기 \n",
    "\n",
    "** 예로 10 ~ 15 까지의 각 숫자의 개수를 구해보자 **\n",
    "\n",
    "- 10 = 1, 0\n",
    "- 11 = 1, 1\n",
    "- 12 = 1, 2\n",
    "- 13 = 1, 3\n",
    "- 14 = 1, 4\n",
    "- 15 = 1, 5\n",
    "\n",
    "그러므로 이 경우의 답은 0:1개, 1:7개, 2:1개, 3:1개, 4:1개, 5:1개"
   ]
  },
  {
   "cell_type": "code",
   "execution_count": 1,
   "metadata": {
    "collapsed": true
   },
   "outputs": [],
   "source": [
    "from collections import defaultdict"
   ]
  },
  {
   "cell_type": "code",
   "execution_count": 2,
   "metadata": {
    "collapsed": false
   },
   "outputs": [
    {
     "name": "stdout",
     "output_type": "stream",
     "text": [
      "{0: 192, 1: 301, 2: 300, 3: 300, 4: 300, 5: 300, 6: 300, 7: 300, 8: 300, 9: 300}\n"
     ]
    }
   ],
   "source": [
    "#1\n",
    "count = {x : 0 for x in range(0,10)}\n",
    "\n",
    "for i in range(1, 1001):\n",
    "    str_num = str(i)\n",
    "    for j in str_num:\n",
    "        count[int(j)] += 1 \n",
    "        \n",
    "print count\n",
    "    \n",
    "    "
   ]
  },
  {
   "cell_type": "code",
   "execution_count": 3,
   "metadata": {
    "collapsed": false
   },
   "outputs": [
    {
     "name": "stdout",
     "output_type": "stream",
     "text": [
      "defaultdict(<type 'int'>, {'1': 301, '0': 192, '3': 300, '2': 300, '5': 300, '4': 300, '7': 300, '6': 300, '9': 300, '8': 300})\n"
     ]
    }
   ],
   "source": [
    "#2\n",
    "dict1 = defaultdict(int)\n",
    "\n",
    "for x in range(1, 1001):\n",
    "    str_num = str(x)\n",
    "    for k in str_num:\n",
    "        dict1[k] += 1\n",
    "        \n",
    "print dict1"
   ]
  },
  {
   "cell_type": "markdown",
   "metadata": {
    "collapsed": true
   },
   "source": [
    "# 2. 완전수 구하기\n",
    "\n",
    "자기 자신을 제외한 모든 양의 약수들의 합이 자기 자신이 되는 자연수를 완전수라고 한다. 예를 들면, 6과 28은 완전수이다. 6=1+2+3 // 1,2,3은 각각 6의 약수 28=1+2+4+7+14 // 1,2,4,7,14는 각각 28의 약수\n",
    "\n",
    "입력으로 자연수 N을 받고, 출력으로 N 이하의 모든 완전수를 출력하는 코드를 작성하라."
   ]
  },
  {
   "cell_type": "code",
   "execution_count": 6,
   "metadata": {
    "collapsed": false
   },
   "outputs": [
    {
     "name": "stdout",
     "output_type": "stream",
     "text": [
      "1000\n",
      "[6, 28, 496]\n"
     ]
    }
   ],
   "source": [
    "num = int(raw_input())\n",
    "lst = []\n",
    "def perfect_number(a):\n",
    "    divisor_sum = 0\n",
    "    for a in range(1, num+1):\n",
    "        for x in range(1, a):\n",
    "            if a % x == 0:\n",
    "                divisor_sum += x\n",
    "        if divisor_sum == a:\n",
    "            lst.append(a)\n",
    "        divisor_sum = 0\n",
    "    return lst\n",
    "                \n",
    "print perfect_number(num)"
   ]
  },
  {
   "cell_type": "code",
   "execution_count": null,
   "metadata": {
    "collapsed": true
   },
   "outputs": [],
   "source": []
  }
 ],
 "metadata": {
  "kernelspec": {
   "display_name": "Python 2",
   "language": "python",
   "name": "python2"
  },
  "language_info": {
   "codemirror_mode": {
    "name": "ipython",
    "version": 2
   },
   "file_extension": ".py",
   "mimetype": "text/x-python",
   "name": "python",
   "nbconvert_exporter": "python",
   "pygments_lexer": "ipython2",
   "version": "2.7.12"
  }
 },
 "nbformat": 4,
 "nbformat_minor": 1
}
