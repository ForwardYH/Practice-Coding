{
 "cells": [
  {
   "cell_type": "markdown",
   "metadata": {},
   "source": [
    "# Problem 4\n",
    "\n",
    "\n",
    "\n",
    "* 앞에서부터 읽을 때나 뒤에서부터 읽을 때나 모양이 같은 수를 대칭수(palindrome)라고 부릅니다.\n",
    "\n",
    "두 자리 수를 곱해 만들 수 있는 대칭수 중 가장 큰 수는 9009 (= 91 × 99) 입니다.\n",
    "\n",
    "세 자리 수를 곱해 만들 수 있는 가장 큰 대칭수는 얼마입니까?"
   ]
  },
  {
   "cell_type": "code",
   "execution_count": 53,
   "metadata": {
    "collapsed": false
   },
   "outputs": [
    {
     "name": "stdout",
     "output_type": "stream",
     "text": [
      "(913, 993, 906609)\n"
     ]
    }
   ],
   "source": [
    "def palindrome(num):\n",
    "    palin_lst = []\n",
    "    multiply_num_lst = []\n",
    "    for i in xrange(100, num):\n",
    "        for j in xrange(i, num):\n",
    "            k = i * j\n",
    "            if k < 10 ** 6:\n",
    "                l = str(k)\n",
    "                n = len(l) / 2.0\n",
    "                o = int(n)\n",
    "                if l[:o] == l[-o:][::-1]:\n",
    "                    palin_lst.append(int(k))\n",
    "                    multiply_num_lst.append([i, j])\n",
    "    \n",
    "    for p in xrange(0, len(multiply_num_lst)):\n",
    "        r =  multiply_num_lst[p][0]\n",
    "        s =  multiply_num_lst[p][1]\n",
    "        if r * s == max(palin_lst):\n",
    "            \n",
    "            return r, s, max(palin_lst)\n",
    "\n",
    "print palindrome(1000)"
   ]
  }
 ],
 "metadata": {
  "kernelspec": {
   "display_name": "Python 2",
   "language": "python",
   "name": "python2"
  },
  "language_info": {
   "codemirror_mode": {
    "name": "ipython",
    "version": 2
   },
   "file_extension": ".py",
   "mimetype": "text/x-python",
   "name": "python",
   "nbconvert_exporter": "python",
   "pygments_lexer": "ipython2",
   "version": "2.7.12"
  }
 },
 "nbformat": 4,
 "nbformat_minor": 1
}
