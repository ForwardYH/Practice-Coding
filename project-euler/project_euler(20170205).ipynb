{
 "cells": [
  {
   "cell_type": "markdown",
   "metadata": {},
   "source": [
    "# Problem 69\n",
    "\n",
    "* 오일러의 피(phi)함수 φ(n)은 n보다 작거나 같으면서 n과 서로 소인 숫자의 개수를 나타냅니다. 예를 들어, 9보다 작거나 같으면서 9와 서로 소인 것은 1, 2, 4, 5, 7, 8이므로 φ(9)=6이 됩니다.\n",
    "\n",
    "n ≤ 10인 경우 n/φ(n)의 값은 n=6일때 최대가 됩니다.\n",
    "\n",
    "n이 1,000,000 이하의 자연수일 때, n/φ(n)는 언제 최대가 됩니까?"
   ]
  },
  {
   "cell_type": "code",
   "execution_count": 4,
   "metadata": {
    "collapsed": true
   },
   "outputs": [],
   "source": [
    "import math"
   ]
  },
  {
   "cell_type": "code",
   "execution_count": 12,
   "metadata": {
    "collapsed": false
   },
   "outputs": [
    {
     "name": "stdout",
     "output_type": "stream",
     "text": [
      "Please input limit: 1000000\n",
      "언제 최대? : 510510\n"
     ]
    }
   ],
   "source": [
    "def is_prime_number(factor):\n",
    "    bPrime = True\n",
    "    for i in range(2,int(math.sqrt(factor))+1):\n",
    "        if factor % i==0:\n",
    "            bPrime = False\n",
    "            break\n",
    "    return bPrime\n",
    "\n",
    "def num_divide_of_pi_function(limit):\n",
    "    max_p = 1\n",
    "    for prime_factor in range(2, limit+1):\n",
    "        if is_prime_number(prime_factor):\n",
    "            if max_p * prime_factor > limit:\n",
    "                return max_p\n",
    "            max_p *= prime_factor\n",
    "\n",
    "limit = int(raw_input('Please input limit: '))\n",
    "print u'언제 최대? : {}'.format(num_divide_of_pi_function(limit))\n",
    "        "
   ]
  }
 ],
 "metadata": {
  "kernelspec": {
   "display_name": "Python 2",
   "language": "python",
   "name": "python2"
  },
  "language_info": {
   "codemirror_mode": {
    "name": "ipython",
    "version": 2
   },
   "file_extension": ".py",
   "mimetype": "text/x-python",
   "name": "python",
   "nbconvert_exporter": "python",
   "pygments_lexer": "ipython2",
   "version": "2.7.12"
  }
 },
 "nbformat": 4,
 "nbformat_minor": 1
}
