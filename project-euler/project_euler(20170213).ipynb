{
 "cells": [
  {
   "cell_type": "markdown",
   "metadata": {},
   "source": [
    "# Problem 21\n",
    "\n",
    "n의 약수들 중에서 자신을 제외한 것의 합을 d(n)으로 정의했을 때,\n",
    "서로 다른 두 정수 a, b에 대하여 d(a) = b 이고 d(b) = a 이면 \n",
    "a, b는 친화쌍이라 하고 a와 b를 각각 친화수(우애수)라고 합니다.\n",
    "\n",
    "예를 들어 220의 약수는 자신을 제외하면 1, 2, 4, 5, 10, 11, 20, 22, 44, 55, 110 이므로 그 합은 d(220) = 284 입니다.\n",
    "또 284의 약수는 자신을 제외하면 1, 2, 4, 71, 142 이므로 d(284) = 220 입니다.\n",
    "따라서 220과 284는 친화쌍이 됩니다.\n",
    "\n",
    "10000 이하의 친화수들을 모두 찾아서 그 합을 구하세요."
   ]
  },
  {
   "cell_type": "code",
   "execution_count": 138,
   "metadata": {
    "collapsed": true
   },
   "outputs": [],
   "source": [
    "import time"
   ]
  },
  {
   "cell_type": "code",
   "execution_count": 164,
   "metadata": {
    "collapsed": false
   },
   "outputs": [
    {
     "name": "stdout",
     "output_type": "stream",
     "text": [
      "Total_sum : 31626\n",
      "finish : 3.83195171497 seconds\n"
     ]
    }
   ],
   "source": [
    "start = time.clock()\n",
    "def friend_num(factor):\n",
    "    check_a_lst = []\n",
    "    friend_num_lst = []\n",
    "    for i in xrange(1, factor):\n",
    "        if factor % i == 0:\n",
    "            check_a_lst.append(i)\n",
    "\n",
    "    check_b_lst = []\n",
    "    check_a_sum = sum(check_a_lst)\n",
    "    for j in xrange(1, check_a_sum):\n",
    "        if check_a_sum % j == 0:\n",
    "            check_b_lst.append(j)\n",
    "\n",
    "        \n",
    "    check_b_sum = sum(check_b_lst)\n",
    "\n",
    "    if factor == check_b_sum and check_a_sum != check_b_sum:\n",
    "        friend_num_lst.append([factor, check_a_sum])\n",
    "        \n",
    "\n",
    "    return friend_num_lst\n",
    "\n",
    "check_factor_lst = [x for x in range(1, 10000)]\n",
    "\n",
    "total_lst = []\n",
    "for factor in check_factor_lst:\n",
    "    if friend_num(factor) != []:\n",
    "        total_lst.extend(friend_num(factor))\n",
    "        \n",
    "summation = 0\n",
    "for a, _ in enumerate(total_lst):\n",
    "    summation += total_lst[a][0]\n",
    "\n",
    "print 'Total_sum :', summation\n",
    "print 'finish : {} seconds'.format(time.clock() - start)\n",
    "        \n",
    "        "
   ]
  }
 ],
 "metadata": {
  "kernelspec": {
   "display_name": "Python 2",
   "language": "python",
   "name": "python2"
  },
  "language_info": {
   "codemirror_mode": {
    "name": "ipython",
    "version": 2
   },
   "file_extension": ".py",
   "mimetype": "text/x-python",
   "name": "python",
   "nbconvert_exporter": "python",
   "pygments_lexer": "ipython2",
   "version": "2.7.12"
  }
 },
 "nbformat": 4,
 "nbformat_minor": 1
}
