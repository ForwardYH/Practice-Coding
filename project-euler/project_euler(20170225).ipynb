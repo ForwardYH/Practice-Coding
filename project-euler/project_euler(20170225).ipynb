{
 "cells": [
  {
   "cell_type": "markdown",
   "metadata": {},
   "source": [
    "# Problem 34\n",
    "\n",
    "\n",
    "숫자 145에는 신기한 성질이 있습니다. 각 자릿수의 팩토리얼(계승)을 더하면  1! + 4! + 5! = 1 + 24 + 120 = 145 처럼 자기 자신이 됩니다.\n",
    "\n",
    "이렇게 각 자릿수의 팩토리얼을 더하면 자기 자신이 되는 모든 수의 합을 구하세요.\n",
    "\n",
    "단, 1! = 1 과 2! = 2 의 경우는 덧셈이 아니므로 제외합니다."
   ]
  },
  {
   "cell_type": "code",
   "execution_count": 31,
   "metadata": {
    "collapsed": false
   },
   "outputs": [
    {
     "name": "stdout",
     "output_type": "stream",
     "text": [
      "(40730, [145, 40585])\n"
     ]
    }
   ],
   "source": [
    "def make_factorial(number):\n",
    "    factorial = 1\n",
    "    for i in xrange(1, number + 1):\n",
    "        factorial *= i\n",
    "        \n",
    "    return str(factorial)\n",
    "\n",
    "\n",
    "def main():\n",
    "    lst = []\n",
    "    tester = [str(x) for x in xrange(3,100000)]\n",
    "    for original in tester:\n",
    "        check = 0\n",
    "        \n",
    "        \n",
    "        for ind, _ in enumerate(original):\n",
    "            factor = int(make_factorial(int(original[ind])))\n",
    "            check += factor\n",
    "        if int(original) == check:\n",
    "            lst.append(int(original))\n",
    "            \n",
    "            \n",
    "    return sum(lst), lst\n",
    "\n",
    "\n",
    "if __name__ == '__main__':\n",
    "    print main()"
   ]
  }
 ],
 "metadata": {
  "kernelspec": {
   "display_name": "Python 2",
   "language": "python",
   "name": "python2"
  },
  "language_info": {
   "codemirror_mode": {
    "name": "ipython",
    "version": 2
   },
   "file_extension": ".py",
   "mimetype": "text/x-python",
   "name": "python",
   "nbconvert_exporter": "python",
   "pygments_lexer": "ipython2",
   "version": "2.7.12"
  }
 },
 "nbformat": 4,
 "nbformat_minor": 1
}
