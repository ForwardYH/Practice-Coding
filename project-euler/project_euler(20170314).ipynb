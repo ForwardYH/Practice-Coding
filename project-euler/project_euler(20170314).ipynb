{
 "cells": [
  {
   "cell_type": "markdown",
   "metadata": {},
   "source": [
    "# Problem 75\n",
    "\n",
    "긴 철사를 구부려서 세 변이 정수인 직각삼각형을 만들 때, 그 방법이 한 가지 뿐인 경우는 12cm를 최소로 해서 아래와 같이 여러 개가 있습니다.\n",
    "\n",
    "- 12 cm: (3,4,5)\n",
    "- 24 cm: (6,8,10)\n",
    "- 30 cm: (5,12,13)\n",
    "- 36 cm: (9,12,15)\n",
    "- 40 cm: (8,15,17)\n",
    "- 48 cm: (12,16,20)\n",
    "\n",
    "반면에 20cm의 경우처럼 세 변이 정수인 직각삼각형을 만들 수 없을 때도 있고, 여러 종류의 직각삼각형을 만들 수 있을 때도 있습니다. \n",
    "예를 들어 120cm의 철사로는 세 가지의 서로 다른 직각삼각형이 만들어집니다.\n",
    "\n",
    "120 cm: (30,40,50), (20,48,52), (24,45,51)\n",
    "\n",
    "그러면 길이가 1,500,000 이하인 철사를 가지고 세 변이 정수인 직각삼각형을 만들 때, 그 길이로는 한 가지 방법으로만 만들 수 있게 되는 경우는 모두 얼마나 됩니까?"
   ]
  },
  {
   "cell_type": "code",
   "execution_count": 69,
   "metadata": {
    "collapsed": false
   },
   "outputs": [
    {
     "name": "stdout",
     "output_type": "stream",
     "text": [
      "Please input Limit : 1500000\n",
      "161667\n"
     ]
    }
   ],
   "source": [
    "def gcd(m, n):\n",
    "    if n == 0:\n",
    "        return m\n",
    "    else:\n",
    "        return gcd(n, m % n)\n",
    "\n",
    "def relatively_prime(m, n):\n",
    "    if gcd(m, n) == 1:\n",
    "        return True\n",
    "    \n",
    "def generate_rectangular_triangle():\n",
    "    m, n = 1,1\n",
    "    while True:\n",
    "        n += 1\n",
    "        if m <= n:\n",
    "            m += 1\n",
    "            n = 1\n",
    "        if relatively_prime(m, n) and (m % 2 == 0 or n % 2 == 0):\n",
    "            a,b,c = m**2 - n**2 , 2*m*n, m**2 + n**2\n",
    "            yield a,b,c\n",
    "\n",
    "def main():\n",
    "    answer_dict = {}\n",
    "    test_case = generate_rectangular_triangle()\n",
    "    a,b,c = test_case.next()\n",
    "    Limit = int(raw_input('Please input Limit : '))\n",
    "    for _ in xrange(Limit):\n",
    "        if a+b+c <= Limit:\n",
    "            i = 1\n",
    "            a1,b1,c1 = a*i, b*i, c*i\n",
    "            while a1+b1+c1 <= Limit:\n",
    "                try:\n",
    "                    answer_dict[a1+b1+c1] += 1\n",
    "                except:\n",
    "                    answer_dict[a1+b1+c1] = 1\n",
    "                i += 1\n",
    "                a1,b1,c1 = a*i, b*i, c*i\n",
    "        \n",
    "        a,b,c = test_case.next()\n",
    "    print sum([x for x in answer_dict.values() if x == 1]) \n",
    "    \n",
    "if __name__ == '__main__':\n",
    "    main()"
   ]
  }
 ],
 "metadata": {
  "kernelspec": {
   "display_name": "Python 2",
   "language": "python",
   "name": "python2"
  },
  "language_info": {
   "codemirror_mode": {
    "name": "ipython",
    "version": 2
   },
   "file_extension": ".py",
   "mimetype": "text/x-python",
   "name": "python",
   "nbconvert_exporter": "python",
   "pygments_lexer": "ipython2",
   "version": "2.7.12"
  }
 },
 "nbformat": 4,
 "nbformat_minor": 1
}
