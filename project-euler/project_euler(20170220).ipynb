{
 "cells": [
  {
   "cell_type": "markdown",
   "metadata": {},
   "source": [
    "# Problem 42\n",
    "\n",
    "\n",
    "* n번째 삼각수는 tn = ½ n (n + 1) 이라는 식으로 구할 수 있는데, 처음 10개는 아래와 같습니다.\n",
    "\n",
    "* 1, 3, 6, 10, 15, 21, 28, 36, 45, 55, ...\n",
    "\n",
    "어떤 영어 단어에 대해서, 각 철자의 알파벳 순서(A=1, B=2, ..., Z=26)를 모두 더한 값을 '단어값'이라 부르기로 합니다. 예를 들어 'SKY'의 단어값은 19 + 11 + 25 = 55가 되는데, 이것은 우연히도 t10과 같습니다.\n",
    "이렇게 어떤 단어의 단어값이 삼각수일 경우에는 이 단어를 '삼각단어'라 부르기로 합니다.\n",
    "\n",
    "약 16KB의 텍스트 파일 words.txt에는 2000개 정도의 영어 단어가 수록되어 있습니다. 이 중에서 삼각단어는 모두 몇 개입니까?"
   ]
  },
  {
   "cell_type": "code",
   "execution_count": 62,
   "metadata": {
    "collapsed": false
   },
   "outputs": [
    {
     "name": "stdout",
     "output_type": "stream",
     "text": [
      "(162, ['A(1)', 'ABILITY(78)', 'ABOVE(45)', 'ACCOMPANY(91)', 'ACHIEVEMENT(105)', 'AGENCY(55)', 'AGREE(36)', 'AIR(28)', 'ALREADY(66)', 'AN(15)', 'ANCIENT(66)', 'APPARENT(91)', 'APPOINT(91)', 'APPROACH(78)', 'ASSUME(78)', 'AT(21)', 'ATMOSPHERE(120)', 'BAG(10)', 'BAND(21)', 'BANK(28)', 'BAR(21)', 'BEAT(28)', 'BELONG(55)', 'BENEATH(55)', 'BONE(36)', 'BOTH(45)', 'BRIDGE(45)', 'BUILDING(78)', 'BURN(55)', 'CALL(28)', 'CAPACITY(78)', 'CAREFUL(66)', 'CASE(28)', 'CHILD(36)', 'CIVIL(55)', 'CLOSELY(91)', 'COME(36)', 'CONFIDENCE(78)', 'CONFIRM(78)', 'CONSERVATIVE(153)', 'CONSTRUCTION(171)', 'CONTENT(91)', 'COULD(55)', 'CURRENTLY(136)', 'DECISION(78)', 'DEFINITION(105)', 'DEMOCRATIC(91)', 'DEPUTY(91)', 'DESPITE(78)', 'DISTINCTION(136)', 'EAST(45)', 'EDGE(21)', 'EDUCATIONAL(105)', 'EFFECT(45)', 'EQUIPMENT(120)', 'EVENT(66)', 'FACE(15)', 'FAIL(28)', 'FAMILY(66)', 'FEEL(28)', 'FIELD(36)', 'FIGURE(66)', 'FLOOR(66)', 'FREEDOM(66)', 'FUND(45)', 'FUTURE(91)', 'GENTLEMAN(91)', 'GREY(55)', 'GROWTH(91)', 'HAIR(36)', 'HAPPY(66)', 'HAVE(36)', 'HERE(36)', 'HIS(36)', 'IF(15)', 'INCIDENT(78)', 'INCREASED(78)', 'INCREASINGLY(136)', 'INDIVIDUAL(105)', 'INSTRUMENT(153)', 'INTEND(66)', 'INTENTION(120)', 'IS(28)', 'LAW(36)', 'LEADER(45)', 'LEAVE(45)', 'LENGTH(66)', 'LESS(55)', 'LITTLE(78)', 'LOVELY(91)', 'MAN(28)', 'MATCH(45)', 'MERELY(78)', 'MILK(45)', 'MISTAKE(78)', 'MOVE(55)', 'MUCH(45)', 'NEED(28)', 'NOTICE(66)', 'OBJECT(55)', 'OBJECTIVE(91)', 'OF(21)', 'OIL(36)', 'ONLY(66)', 'OTHER(66)', 'OURSELVES(136)', 'PART(55)', 'PASS(55)', 'PATH(45)', 'PERFORM(91)', 'PRISON(91)', 'PRIVATE(91)', 'PROBABLY(91)', 'PROCEDURE(105)', 'QUALITY(105)', 'QUESTION(120)', 'RANGE(45)', 'READ(28)', 'REAL(36)', 'RELIEF(55)', 'REMOVE(78)', 'REPRESENT(120)', 'REQUEST(105)', 'RESPOND(91)', 'RIDE(36)', 'SAMPLE(66)', 'SAY(45)', 'SEAT(45)', 'SECURITY(120)', 'SINGLE(66)', 'SKY(55)', 'SOIL(55)', 'SOLICITOR(120)', 'SONG(55)', 'SOUTHERN(120)', 'SPIRIT(91)', 'START(78)', 'SUGGESTION(136)', 'TALL(45)', 'TAX(45)', 'THEORY(91)', 'THREATEN(91)', 'THROUGHOUT(153)', 'TITLE(66)', 'TOOTH(78)', 'TOTALLY(105)', 'TRAVEL(78)', 'TYPE(66)', 'UNABLE(55)', 'UNDERSTAND(120)', 'UPON(66)', 'USE(45)', 'VARIOUS(105)', 'VARY(66)', 'VIDEO(55)', 'WAGE(36)', 'WARM(55)', 'WATCH(55)', 'WE(28)', 'WHILST(91)', 'WIDELY(78)', 'WOMAN(66)'])\n"
     ]
    }
   ],
   "source": [
    "def load_file(file = 'words.txt'):\n",
    "    with open('words.txt', 'r') as data:\n",
    "        word_data = data.read().replace('\"', '').split(',')\n",
    "        \n",
    "    return word_data\n",
    "\n",
    "def triangle_number():\n",
    "    triangle_num_list = []\n",
    "    for n in xrange(1, 100):\n",
    "        t_n = int(0.5 * n * (n + 1))\n",
    "        triangle_num_list.append(t_n)\n",
    "        \n",
    "    return triangle_num_list\n",
    "        \n",
    "def is_triangle_words(data):\n",
    "    triangle_words_lst = []\n",
    "    for factor in data:\n",
    "        check_t_w = 0\n",
    "        for j, _ in enumerate(factor):\n",
    "            check_t_w += ord(factor[j]) - ord('A') + 1\n",
    "        if check_t_w in triangle_number():\n",
    "            triangle_words_lst.append(str(factor) + '({})'.format(check_t_w))\n",
    "            \n",
    "    return len(triangle_words_lst), triangle_words_lst\n",
    "\n",
    "if __name__ == '__main__':\n",
    "    print is_triangle_words(load_file())\n",
    "    \n",
    "    "
   ]
  }
 ],
 "metadata": {
  "kernelspec": {
   "display_name": "Python 2",
   "language": "python",
   "name": "python2"
  },
  "language_info": {
   "codemirror_mode": {
    "name": "ipython",
    "version": 2
   },
   "file_extension": ".py",
   "mimetype": "text/x-python",
   "name": "python",
   "nbconvert_exporter": "python",
   "pygments_lexer": "ipython2",
   "version": "2.7.12"
  }
 },
 "nbformat": 4,
 "nbformat_minor": 1
}
