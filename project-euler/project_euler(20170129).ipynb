{
 "cells": [
  {
   "cell_type": "markdown",
   "metadata": {},
   "source": [
    "# Problem 3 \n",
    "\n",
    "* 어떤 수를 소수의 곱으로만 나타내는 것을 소인수분해라 하고, 이 소수들을 그 수의 소인수라고 합니다.\n",
    "예를 들면 13195의 소인수는 5, 7, 13, 29 입니다.\n",
    "\n",
    "600851475143의 소인수 중에서 가장 큰 수를 구하세요."
   ]
  },
  {
   "cell_type": "code",
   "execution_count": 34,
   "metadata": {
    "collapsed": false
   },
   "outputs": [
    {
     "name": "stdout",
     "output_type": "stream",
     "text": [
      "100000 loops, best of 3: 5.03 µs per loop\n",
      "([5, 7, 13, 29], 29)\n",
      "--------------------------------------------------\n",
      "100 loops, best of 3: 2.31 ms per loop\n",
      "([71, 839, 1471, 6857], 6857)\n"
     ]
    }
   ],
   "source": [
    "def prime_divisor(num):\n",
    "    prime_divisor_lst = []\n",
    "    factor = 2\n",
    "    while True:\n",
    "        while num % factor == 0:\n",
    "            num /= factor\n",
    "            prime_divisor_lst.append(factor)\n",
    "            \n",
    "        if num <= 1:\n",
    "            break\n",
    "            \n",
    "        factor += 1   \n",
    "    \n",
    "    return prime_divisor_lst, max(prime_divisor_lst)\n",
    "\n",
    "%timeit(prime_divisor(13195))\n",
    "print prime_divisor(13195)\n",
    "\n",
    "print '-' * 50\n",
    "%timeit(prime_divisor(600851475143))\n",
    "print prime_divisor(600851475143)"
   ]
  }
 ],
 "metadata": {
  "kernelspec": {
   "display_name": "Python 2",
   "language": "python",
   "name": "python2"
  },
  "language_info": {
   "codemirror_mode": {
    "name": "ipython",
    "version": 2
   },
   "file_extension": ".py",
   "mimetype": "text/x-python",
   "name": "python",
   "nbconvert_exporter": "python",
   "pygments_lexer": "ipython2",
   "version": "2.7.12"
  }
 },
 "nbformat": 4,
 "nbformat_minor": 1
}
