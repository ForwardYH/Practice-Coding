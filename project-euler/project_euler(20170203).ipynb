{
 "cells": [
  {
   "cell_type": "markdown",
   "metadata": {},
   "source": [
    "# Problem 39\n",
    "\n",
    "* 세 변의 길이가 모두 자연수 {a, b, c}인 직각삼각형의 둘레를 p 로 둘 때, p = 120 을 만족하는 직각삼각형은 아래와 같이 세 개가 있습니다.\n",
    "\n",
    "{20, 48, 52}, {24, 45, 51}, {30, 40, 50}\n",
    "1000 이하의 둘레 p에 대해서, 직각삼각형이 가장 많이 만들어지는 p의 값은 얼마입니까?"
   ]
  },
  {
   "cell_type": "code",
   "execution_count": 111,
   "metadata": {
    "collapsed": true
   },
   "outputs": [],
   "source": [
    "import time"
   ]
  },
  {
   "cell_type": "code",
   "execution_count": 127,
   "metadata": {
    "collapsed": false
   },
   "outputs": [
    {
     "name": "stdout",
     "output_type": "stream",
     "text": [
      "Please input number of perimeter range : 1000\n",
      "[840, [40, 399, 401], [56, 390, 394], [105, 360, 375], [120, 350, 370], [140, 336, 364], [168, 315, 357], [210, 280, 350], [240, 252, 348]]\n",
      "\n",
      "total : 20.9829627661 seconds\n"
     ]
    }
   ],
   "source": [
    "start = time.clock()\n",
    "\n",
    "def make_right_angled_triangle(perimeter):\n",
    "    triangle_list = [perimeter]\n",
    "    a = [x for x in range(1, perimeter+1)]\n",
    "    for num1 in a:\n",
    "        for num2 in xrange(num1, perimeter - num1):\n",
    "            num3 = perimeter - (num1 + num2)\n",
    "\n",
    "            condition1 = num1 ** 2 + num2 ** 2 - num3 ** 2 == 0\n",
    "            condition2 = num1 + num2 + num3 <= perimeter\n",
    "\n",
    "            if condition1 and condition2:\n",
    "                triangle_list.append([num1, num2, num3])\n",
    "                    \n",
    "    return triangle_list\n",
    "\n",
    "\n",
    "M = int(raw_input('Please input number of perimeter range : '))                   \n",
    "total_perimeters = [i for i in range(1, M + 1)]\n",
    "maximum_p = [1, [1,1,1]]\n",
    "for factor in total_perimeters:\n",
    "    \n",
    "    test = make_right_angled_triangle(factor)\n",
    "    if len(test) > len(maximum_p):\n",
    "        maximum_p = test\n",
    "        \n",
    "print maximum_p\n",
    "print \n",
    "print 'total : {} seconds'.format((time.clock() - start))"
   ]
  }
 ],
 "metadata": {
  "kernelspec": {
   "display_name": "Python 2",
   "language": "python",
   "name": "python2"
  },
  "language_info": {
   "codemirror_mode": {
    "name": "ipython",
    "version": 2
   },
   "file_extension": ".py",
   "mimetype": "text/x-python",
   "name": "python",
   "nbconvert_exporter": "python",
   "pygments_lexer": "ipython2",
   "version": "2.7.12"
  }
 },
 "nbformat": 4,
 "nbformat_minor": 1
}
