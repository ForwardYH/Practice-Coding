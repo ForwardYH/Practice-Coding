{
 "cells": [
  {
   "cell_type": "markdown",
   "metadata": {},
   "source": [
    "# Problem 36\n",
    "\n",
    "* 대칭수(palindrome)인 585는 2진수로 나타내도 1001001001_(2)가 되어 여전히 대칭수입니다.\n",
    "\n",
    "    10진법과 2진법으로 모두 대칭수인 1,000,000 이하 숫자의 합을 구하세요.\n",
    "\n",
    "    (주의: 첫번째 자리가 0이면 대칭수가 아님)"
   ]
  },
  {
   "cell_type": "code",
   "execution_count": 53,
   "metadata": {
    "collapsed": true
   },
   "outputs": [],
   "source": [
    "import time"
   ]
  },
  {
   "cell_type": "code",
   "execution_count": 64,
   "metadata": {
    "collapsed": false
   },
   "outputs": [
    {
     "name": "stdout",
     "output_type": "stream",
     "text": [
      "([1, 3, 5, 7, 9, 33, 99, 313, 585, 717, 7447, 9009, 15351, 32223, 39993, 53235, 53835, 73737, 585585], 872187)\n",
      "\n",
      "finished 0.5249226773 seconds\n"
     ]
    }
   ],
   "source": [
    "start = time.clock()\n",
    "\n",
    "def is_palindrome(factor):\n",
    "    if factor == factor[::-1]:\n",
    "        return factor\n",
    "    return False\n",
    "    \n",
    "def make_binary_number(number, base = 2):\n",
    "    factor = '01'\n",
    "    quotient, remainder = divmod(number, base)\n",
    "    if quotient == 0:\n",
    "        return factor[remainder]\n",
    "    return make_binary_number(quotient, base) + factor[remainder] \n",
    "\n",
    "\n",
    "def main():\n",
    "    factor = [str(x) for x in xrange(1, 1000001)]\n",
    "    total_lst = []\n",
    "    for case in factor:\n",
    "        if is_palindrome(case):\n",
    "            check = make_binary_number(int(is_palindrome(case)), 2)\n",
    "            if is_palindrome(check):\n",
    "                total_lst.append(int(case))\n",
    "    \n",
    "    return total_lst, sum(total_lst)\n",
    "                \n",
    "if __name__ == '__main__':\n",
    "    print main()\n",
    "    print\n",
    "    print 'finished {} seconds'.format(time.clock() - start)"
   ]
  }
 ],
 "metadata": {
  "kernelspec": {
   "display_name": "Python 2",
   "language": "python",
   "name": "python2"
  },
  "language_info": {
   "codemirror_mode": {
    "name": "ipython",
    "version": 2
   },
   "file_extension": ".py",
   "mimetype": "text/x-python",
   "name": "python",
   "nbconvert_exporter": "python",
   "pygments_lexer": "ipython2",
   "version": "2.7.12"
  }
 },
 "nbformat": 4,
 "nbformat_minor": 1
}
