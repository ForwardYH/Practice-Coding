{
 "cells": [
  {
   "cell_type": "markdown",
   "metadata": {},
   "source": [
    "# Problem 56\n",
    "\n",
    "* 구골(googol)은 10^100을 일컫는 말로, 1 뒤에 0이 백 개나 붙는 어마어마한 수입니다.\n",
    "100^100은 1 뒤에 0이 2백 개가 붙으니 상상을 초월할만큼 크다 하겠습니다.\n",
    "하지만 이 숫자들이 얼마나 크건간에, 각 자릿수를 모두 합하면 둘 다 겨우 1밖에 되지 않습니다.\n",
    "\n",
    "a, b < 100 인 자연수 a^b 에 대해서, 자릿수의 합이 최대인 경우 그 값은 얼마입니까?"
   ]
  },
  {
   "cell_type": "code",
   "execution_count": 63,
   "metadata": {
    "collapsed": false
   },
   "outputs": [
    {
     "name": "stdout",
     "output_type": "stream",
     "text": [
      "Wall time: 477 ms\n"
     ]
    },
    {
     "data": {
      "text/plain": [
       "[(99, 95), 972]"
      ]
     },
     "execution_count": 63,
     "metadata": {},
     "output_type": "execute_result"
    }
   ],
   "source": [
    "def googol(limit):\n",
    "    lst = []\n",
    "    \n",
    "    summation_lst = []\n",
    "    for x in xrange(1,limit):\n",
    "        for y in xrange(1, limit):\n",
    "            lst.append([(x, y), str(x**y)])\n",
    "    \n",
    "    for nums, pow_num in lst:\n",
    "        summation = 0\n",
    "        for i, _ in enumerate(pow_num):\n",
    "             summation += int(pow_num[i])\n",
    "        summation_lst.append([nums, summation])\n",
    "        \n",
    "    return sorted(summation_lst, key = lambda x : x[1], reverse = True)[0]\n",
    "\n",
    "%time googol(100)"
   ]
  }
 ],
 "metadata": {
  "kernelspec": {
   "display_name": "Python 2",
   "language": "python",
   "name": "python2"
  },
  "language_info": {
   "codemirror_mode": {
    "name": "ipython",
    "version": 2
   },
   "file_extension": ".py",
   "mimetype": "text/x-python",
   "name": "python",
   "nbconvert_exporter": "python",
   "pygments_lexer": "ipython2",
   "version": "2.7.12"
  }
 },
 "nbformat": 4,
 "nbformat_minor": 1
}
