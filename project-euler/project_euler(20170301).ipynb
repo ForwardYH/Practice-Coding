{
 "cells": [
  {
   "cell_type": "markdown",
   "metadata": {},
   "source": [
    "# Problem 50\n",
    "\n",
    "41은 소수이면서 다음과 같은 6개의 연속된 소수의 합으로도 나타낼 수 있습니다.\n",
    "\n",
    "41 = 2 + 3 + 5 + 7 + 11 + 13\n",
    "이것은 100 이하에서는 가장 길게 연속된 소수의 합으로 이루어진 소수입니다.\n",
    "\n",
    "1000 이하에서는 953이 연속된 소수 21개의 합으로 가장 깁니다.\n",
    "\n",
    "1백만 이하에서는 어떤 소수가 가장 길게 연속되는 소수의 합으로 표현될 수 있습니까?"
   ]
  },
  {
   "cell_type": "code",
   "execution_count": 1,
   "metadata": {
    "collapsed": true
   },
   "outputs": [],
   "source": [
    "import math"
   ]
  },
  {
   "cell_type": "code",
   "execution_count": 241,
   "metadata": {
    "collapsed": false
   },
   "outputs": [
    {
     "name": "stdout",
     "output_type": "stream",
     "text": [
      "100\n",
      "limit : 100 : largest : 41, length : 6\n",
      "1000\n",
      "limit : 1000 : largest : 953, length : 21\n",
      "1000000\n",
      "limit : 1000000 : largest : 997651, length : 543\n"
     ]
    }
   ],
   "source": [
    "def make_prime_lst(limit):\n",
    "    is_prime = [True]*limit\n",
    "    is_prime[0] = False\n",
    "    is_prime[1] = False\n",
    "    is_prime[2] = True\n",
    "\n",
    "    for i in xrange(3, int(limit**0.5+1), 2):\n",
    "        index = i*2\n",
    "        while index < limit:\n",
    "            is_prime[index] = False\n",
    "            index = index+i\n",
    "    prime_lst = [2]\n",
    "    for j in xrange(3, limit, 2):\n",
    "        if is_prime[j]:\n",
    "            prime_lst.append(j)\n",
    "    return prime_lst\n",
    "\n",
    "def main():\n",
    "\n",
    "    limit = input()\n",
    "        \n",
    "    primes_lst = make_prime_lst(limit)\n",
    "    largest = 0\n",
    "    length = 0\n",
    "    lastl = len(primes_lst)\n",
    "\n",
    "    for k in xrange(len(primes_lst)):\n",
    "        for l in xrange(k+length, lastl):\n",
    "            summation = sum(primes_lst[k:l])\n",
    "            if summation < 1000000:\n",
    "                if summation in primes_lst:\n",
    "                    length = l - k\n",
    "                    largest = summation\n",
    "            else:\n",
    "                lastl = l+1\n",
    "                break\n",
    "                \n",
    "    return 'limit : {} : largest : {}, length : {}'.format(limit, largest, length)\n",
    "\n",
    "if __name__ == '__main__':\n",
    "    count = 0\n",
    "    while count < 3:\n",
    "        print main()\n",
    "        \n",
    "        count += 1\n",
    "\n",
    "\n"
   ]
  }
 ],
 "metadata": {
  "kernelspec": {
   "display_name": "Python 2",
   "language": "python",
   "name": "python2"
  },
  "language_info": {
   "codemirror_mode": {
    "name": "ipython",
    "version": 2
   },
   "file_extension": ".py",
   "mimetype": "text/x-python",
   "name": "python",
   "nbconvert_exporter": "python",
   "pygments_lexer": "ipython2",
   "version": "2.7.12"
  }
 },
 "nbformat": 4,
 "nbformat_minor": 1
}
