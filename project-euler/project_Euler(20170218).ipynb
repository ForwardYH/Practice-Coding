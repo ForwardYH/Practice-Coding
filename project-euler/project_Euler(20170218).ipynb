{
 "cells": [
  {
   "cell_type": "markdown",
   "metadata": {},
   "source": [
    "# Problem 35\n",
    "\n",
    "* 소수 중에서 각 자리의 숫자들을 순환시켜도 여전히 소수인 것을 circular prime이라고 합니다. 예를 들어 197은 971, 719가 모두 소수이므로 여기에 해당합니다.\n",
    "\n",
    "이런 소수는 100 밑으로 2, 3, 5, 7, 11, 13, 17, 31, 37, 71, 73, 79, 97 처럼 13개가 있습니다.\n",
    "\n",
    "그러면 1,000,000 밑으로는 모두 몇 개나 있을까요?"
   ]
  },
  {
   "cell_type": "code",
   "execution_count": 301,
   "metadata": {
    "collapsed": true
   },
   "outputs": [],
   "source": [
    "import math"
   ]
  },
  {
   "cell_type": "code",
   "execution_count": 303,
   "metadata": {
    "collapsed": false,
    "scrolled": false
   },
   "outputs": [
    {
     "name": "stdout",
     "output_type": "stream",
     "text": [
      "([2, 3, 5, 7, 11, 13, 17, 31, 37, 71, 73, 79, 97, 113, 131, 197, 199, 311, 337, 373, 719, 733, 919, 971, 991, 1193, 1931, 3119, 3779, 7793, 7937, 9311, 9377, 11939, 19391, 19937, 37199, 39119, 71993, 91193, 93719, 93911, 99371, 193939, 199933, 319993, 331999, 391939, 393919, 919393, 933199, 939193, 939391, 993319, 999331], 55)\n"
     ]
    }
   ],
   "source": [
    "def prime_number(factor):\n",
    "    if factor == 0 or factor == 1:\n",
    "        return False\n",
    "    prime = True\n",
    "    for i in range(2, int(math.sqrt(factor)) + 1):\n",
    "        if factor % i == 0:\n",
    "            prime = False\n",
    "            break\n",
    "\n",
    "    return prime\n",
    "\n",
    "def make_circular_prime(factor):\n",
    "    cir_prime_lst = []\n",
    "    check_lst = []\n",
    "    test_lst = []\n",
    "    factor = str(factor)\n",
    "    \n",
    "    for k, _ in enumerate(factor):\n",
    "        test = factor[k:] + factor[:k]\n",
    "        check_lst.append(test)\n",
    "        \n",
    "        if prime_number(int(test)):   \n",
    "            for l, _ in enumerate(test):\n",
    "                \n",
    "                if test[l] in '024568':\n",
    "                    break\n",
    "\n",
    "                elif int(test) in test_lst:\n",
    "\n",
    "                    test_lst.remove(int(test))\n",
    "                        \n",
    "            else:\n",
    "                test_lst.append(int(test))\n",
    "    \n",
    "    if len(test_lst) == len(set(check_lst)):\n",
    "        \n",
    "        return test_lst\n",
    "                \n",
    "\n",
    "def main():\n",
    "    total_lst = []\n",
    "    factor = [x for x in xrange(1000000)]\n",
    "\n",
    "    for case in factor:\n",
    "        if make_circular_prime(case) != None:\n",
    "            total_lst.append(make_circular_prime((case))[0])\n",
    "    \n",
    "    \n",
    "    total_lst += [2, 5]\n",
    "    return sorted(total_lst), len(total_lst)\n",
    "\n",
    "if __name__ == \"__main__\":\n",
    "    print main()\n",
    "\n"
   ]
  }
 ],
 "metadata": {
  "kernelspec": {
   "display_name": "Python 2",
   "language": "python",
   "name": "python2"
  },
  "language_info": {
   "codemirror_mode": {
    "name": "ipython",
    "version": 2
   },
   "file_extension": ".py",
   "mimetype": "text/x-python",
   "name": "python",
   "nbconvert_exporter": "python",
   "pygments_lexer": "ipython2",
   "version": "2.7.12"
  }
 },
 "nbformat": 4,
 "nbformat_minor": 1
}
