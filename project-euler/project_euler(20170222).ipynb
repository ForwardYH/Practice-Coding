{
 "cells": [
  {
   "cell_type": "markdown",
   "metadata": {},
   "source": [
    "# Problem 49\n",
    "\n",
    "\n",
    "* 1487, 4817, 8147은 3330씩 늘어나는 등차수열입니다. 이 수열에는 특이한 점이 두 가지 있습니다.\n",
    "\n",
    "세 수는 모두 소수입니다.\n",
    "세 수는 각각 다른 수의 자릿수를 바꿔서 만들 수 있는 순열(permutation)입니다.\n",
    "1자리, 2자리, 3자리의 소수 중에서는 위와 같은 성질을 갖는 수열이 존재하지 않습니다. 하지만 4자리라면 위엣것 말고도 또 다른 수열이 존재합니다.\n",
    "\n",
    "그 수열의 세 항을 이었을 때 만들어지는 12자리 숫자는 무엇입니까?"
   ]
  },
  {
   "cell_type": "code",
   "execution_count": 339,
   "metadata": {
    "collapsed": true
   },
   "outputs": [],
   "source": [
    "import time\n",
    "from itertools import permutations"
   ]
  },
  {
   "cell_type": "code",
   "execution_count": 360,
   "metadata": {
    "collapsed": false
   },
   "outputs": [
    {
     "name": "stdout",
     "output_type": "stream",
     "text": [
      "148748178147\n",
      "296962999629\n",
      "finished : 0.123196639231 in seconds\n"
     ]
    }
   ],
   "source": [
    "start = time.clock()\n",
    "\n",
    "def isprime(factor):\n",
    "    if factor == 1:\n",
    "        return False\n",
    "    prime = True\n",
    "    for i in xrange(2, int(math.sqrt(factor)) + 1):\n",
    "        if factor % i == 0:\n",
    "            prime = False\n",
    "            break\n",
    "            \n",
    "    return prime\n",
    "\n",
    "def issequence(lst):\n",
    "    total_lst = []\n",
    "    for i in xrange(len(lst)):\n",
    "        for j in xrange(i+1, len(lst)):\n",
    "            for l in xrange(j+1, len(lst)):\n",
    "                if lst[j] - lst[i] > 0 and lst[l] - lst[j] > 0 and lst[j] - lst[i] == lst[l] - lst[j]:\n",
    "                    total_lst.extend([str(lst[i]), str(lst[j]), str(lst[l])])\n",
    "                \n",
    "                    return total_lst\n",
    "                \n",
    "                \n",
    "def check_answer(factor):\n",
    "    test_lst = []\n",
    "    int_factor = int(factor)\n",
    "    if isprime(int_factor):\n",
    "        permu = list(permutations(factor, len(factor)))\n",
    "        \n",
    "        for test in permu:\n",
    "            join_permu = ''.join(test)\n",
    "            if isprime(int(join_permu)):\n",
    "                for _ in xrange(len(join_permu)):\n",
    "                    if join_permu[0] == '0' or join_permu[-1] in '024568':\n",
    "                        break\n",
    "                    elif int(join_permu) not in test_lst:    \n",
    "                        test_lst.append(int(join_permu))\n",
    "                        \n",
    "    if issequence(test_lst):\n",
    "        answer = ''.join(issequence(test_lst))\n",
    "        if len(answer) == 12:\n",
    "\n",
    "            return answer\n",
    "        \n",
    "        \n",
    "\n",
    "            \n",
    "factor = [str(x) for x in xrange(1000, 10000)]\n",
    "for x in factor:\n",
    "    if check_answer(x) != None:\n",
    "        print check_answer(x)\n",
    "        \n",
    "print 'finished : {} in seconds'.format(time.clock() - start)"
   ]
  },
  {
   "cell_type": "markdown",
   "metadata": {},
   "source": [
    "# Answer is 296962999629"
   ]
  }
 ],
 "metadata": {
  "kernelspec": {
   "display_name": "Python 2",
   "language": "python",
   "name": "python2"
  },
  "language_info": {
   "codemirror_mode": {
    "name": "ipython",
    "version": 2
   },
   "file_extension": ".py",
   "mimetype": "text/x-python",
   "name": "python",
   "nbconvert_exporter": "python",
   "pygments_lexer": "ipython2",
   "version": "2.7.12"
  }
 },
 "nbformat": 4,
 "nbformat_minor": 1
}
