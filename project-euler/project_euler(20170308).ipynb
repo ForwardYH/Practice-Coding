{
 "cells": [
  {
   "cell_type": "markdown",
   "metadata": {},
   "source": [
    "# Problem 29\n",
    "\n",
    "2 ≤ a ≤ 5 이고 2 ≤ b ≤ 5인 두 정수 a, b로 만들 수 있는 a^b의 모든 조합을 구하면 다음과 같습니다.\n",
    "\n",
    "- 2^2=4,    2^3=8,     2^4=16,    2^5=32\n",
    "- 3^2=9,    3^3=27,    3^4=81,    3^5=243\n",
    "- 4^2=16,   4^3=64,    4^4=256,   4^5=1024\n",
    "- 5^2=25,   5^3=125,   5^4=625,   5^5=3125\n",
    "여기서 중복된 것을 빼고 크기 순으로 나열하면 아래와 같은 15개의 숫자가 됩니다.\n",
    "\n",
    "4,  8,  9,  16,  25,  27,  32,  64,  81,  125,  243,  256,  625,  1024,  3125\n",
    "\n",
    "그러면, 2 ≤ a ≤ 100 이고 2 ≤ b ≤ 100인 a, b를 가지고 만들 수 있는 a^b는 중복을 제외하면 모두 몇 개입니까?"
   ]
  },
  {
   "cell_type": "code",
   "execution_count": 8,
   "metadata": {
    "collapsed": false
   },
   "outputs": [
    {
     "name": "stdout",
     "output_type": "stream",
     "text": [
      "9183\n"
     ]
    }
   ],
   "source": [
    "def problem29():\n",
    "    save_list = []\n",
    "    a_list = [x for x in xrange(2, 101)]\n",
    "    b_list = [y for y in xrange(2, 101)]\n",
    "    \n",
    "    for a in a_list:\n",
    "        for b in a_list:\n",
    "            if a ** b not in save_list:\n",
    "                save_list.append(a ** b)\n",
    "                \n",
    "    return len(save_list)\n",
    "\n",
    "if __name__ == '__main__':\n",
    "    print problem29()\n",
    "            "
   ]
  }
 ],
 "metadata": {
  "kernelspec": {
   "display_name": "Python 2",
   "language": "python",
   "name": "python2"
  },
  "language_info": {
   "codemirror_mode": {
    "name": "ipython",
    "version": 2
   },
   "file_extension": ".py",
   "mimetype": "text/x-python",
   "name": "python",
   "nbconvert_exporter": "python",
   "pygments_lexer": "ipython2",
   "version": "2.7.12"
  }
 },
 "nbformat": 4,
 "nbformat_minor": 1
}
