{
 "cells": [
  {
   "cell_type": "markdown",
   "metadata": {},
   "source": [
    "# Problem 87\n",
    "\n",
    "* (소수의 제곱 + 소수의 3제곱 + 소수의 4제곱)으로 나타낼 수 있는 가장 작은 수는 28입니다.\n",
    "50 미만의 숫자 중에서 이런 수는 모두 네 개가 있습니다.\n",
    "\n",
    "- 28 = 2^2 + 2^3 + 2^4\n",
    "- 33 = 3^2 + 2^3 + 2^4\n",
    "- 49 = 5^2 + 2^3 + 2^4\n",
    "- 47 = 2^2 + 3^3 + 2^4\n",
    "\n",
    "5천만 미만의 수 중에서 이렇게 나타낼 수 있는 숫자는 모두 몇 개나 됩니까?"
   ]
  },
  {
   "cell_type": "code",
   "execution_count": 2,
   "metadata": {
    "collapsed": true
   },
   "outputs": [],
   "source": [
    "from itertools import product"
   ]
  },
  {
   "cell_type": "code",
   "execution_count": 75,
   "metadata": {
    "collapsed": false
   },
   "outputs": [
    {
     "name": "stdout",
     "output_type": "stream",
     "text": [
      "Answer is 1097343\n"
     ]
    }
   ],
   "source": [
    "def make_prime_number(limit):\n",
    "    nums = range(2, limit+1)\n",
    "    for i, num in enumerate(nums):\n",
    "        if num != 0:\n",
    "            to_zero = i + num\n",
    "            while to_zero < len(nums):\n",
    "                nums[to_zero] = 0\n",
    "                to_zero += num\n",
    "    \n",
    "    primes = (p for p in nums if p != 0)\n",
    "    return primes\n",
    "\n",
    "def main():\n",
    "    answer_list = set()\n",
    "    maxL = 50000000\n",
    "    square = make_prime_number(7072) # 7072 ** 2 = 50013184\n",
    "    cube = make_prime_number(369)    #  369 ** 3 = 50243409\n",
    "    quad = make_prime_number(85)     #   85 ** 4 = 52200625\n",
    "    for a,b,c in product(square,cube,quad):\n",
    "        total = a**2 + b**3 + c**4\n",
    "        if total < maxL:\n",
    "            answer_list.add(total)\n",
    "          \n",
    "    print 'Answer is', len(answer_list)\n",
    "\n",
    "if __name__ == '__main__':\n",
    "    main()"
   ]
  }
 ],
 "metadata": {
  "kernelspec": {
   "display_name": "Python 2",
   "language": "python",
   "name": "python2"
  },
  "language_info": {
   "codemirror_mode": {
    "name": "ipython",
    "version": 2
   },
   "file_extension": ".py",
   "mimetype": "text/x-python",
   "name": "python",
   "nbconvert_exporter": "python",
   "pygments_lexer": "ipython2",
   "version": "2.7.12"
  }
 },
 "nbformat": 4,
 "nbformat_minor": 1
}
