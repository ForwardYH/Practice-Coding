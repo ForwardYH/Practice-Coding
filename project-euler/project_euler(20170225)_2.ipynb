{
 "cells": [
  {
   "cell_type": "markdown",
   "metadata": {},
   "source": [
    "# Problem 52\n",
    "\n",
    "125874를 2배 하면 251748이 되는데, 이 둘은 같은 숫자로 이루어져 있고 순서만 다릅니다.\n",
    "\n",
    "2배, 3배, 4배, 5배, 6배의 결과도 같은 숫자로 이루어지는 가장 작은 수는 무엇입니까?"
   ]
  },
  {
   "cell_type": "code",
   "execution_count": 22,
   "metadata": {
    "collapsed": true
   },
   "outputs": [],
   "source": [
    "from itertools import permutations"
   ]
  },
  {
   "cell_type": "code",
   "execution_count": 23,
   "metadata": {
    "collapsed": false,
    "scrolled": false
   },
   "outputs": [
    {
     "name": "stdout",
     "output_type": "stream",
     "text": [
      "142857\n"
     ]
    }
   ],
   "source": [
    "def problem52():\n",
    "    answer_lst = []\n",
    "    original = [x for x in xrange(10000,150000)]\n",
    "    for original_num in original:\n",
    "    \n",
    "        a = list(permutations(str(original_num), len(str(original_num))))\n",
    "        per_lst = []\n",
    "        original_mul_lst = []\n",
    "        \n",
    "\n",
    "        for i in a:\n",
    "            k = ''.join(i)\n",
    "            per_lst.append(k)   \n",
    "\n",
    "        for mul in xrange(2,7):\n",
    "            if str(original_num * mul) in per_lst:\n",
    "                  original_mul_lst.append(original_num * mul)\n",
    "                  \n",
    "    \n",
    "        if len(original_mul_lst) == 5:\n",
    "            answer_lst.append(original_num)\n",
    "               \n",
    "          \n",
    "\n",
    "    return answer_lst[0]\n",
    "            \n",
    "             \n",
    "             \n",
    "print problem52()"
   ]
  }
 ],
 "metadata": {
  "kernelspec": {
   "display_name": "Python 2",
   "language": "python",
   "name": "python2"
  },
  "language_info": {
   "codemirror_mode": {
    "name": "ipython",
    "version": 2
   },
   "file_extension": ".py",
   "mimetype": "text/x-python",
   "name": "python",
   "nbconvert_exporter": "python",
   "pygments_lexer": "ipython2",
   "version": "2.7.12"
  }
 },
 "nbformat": 4,
 "nbformat_minor": 1
}
