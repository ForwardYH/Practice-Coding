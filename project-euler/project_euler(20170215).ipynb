{
 "cells": [
  {
   "cell_type": "markdown",
   "metadata": {},
   "source": [
    "# Problem 24\n",
    "\n",
    " 어떤 대상을 순서에 따라 배열한 것을 순열이라고 합니다. 예를 들어 3124는 숫자 1, 2, 3, 4로 만들 수 있는 순열 중 하나입니다.\n",
    "\n",
    " 이렇게 만들 수 있는 모든 순열을 숫자나 문자 순으로 늘어놓은 것을 사전식(lexicographic) 순서라고 합니다.\n",
    "0, 1, 2로 만들 수 있는 사전식 순열은 다음과 같습니다.\n",
    "\n",
    " 012   021   102   120   201   210\n",
    "-  0, 1, 2, 3, 4, 5, 6, 7, 8, 9로 만들 수 있는 사전식 순열에서 1,000,000번째는 무엇입니까?"
   ]
  },
  {
   "cell_type": "code",
   "execution_count": 1,
   "metadata": {
    "collapsed": true
   },
   "outputs": [],
   "source": [
    "from itertools import permutations"
   ]
  },
  {
   "cell_type": "code",
   "execution_count": 19,
   "metadata": {
    "collapsed": false
   },
   "outputs": [
    {
     "name": "stdout",
     "output_type": "stream",
     "text": [
      "2783915460\n"
     ]
    }
   ],
   "source": [
    "def lexicographic(limit):\n",
    "    test_list = []\n",
    "    case_list = []\n",
    "    for i in xrange(limit):\n",
    "        str_i = str(i)\n",
    "        test_list.append(str_i)\n",
    "    permu = list(permutations(test_list, len(test_list)))\n",
    "    for factor in permu:\n",
    "        case = ''.join(factor)\n",
    "        case_list.append(case)\n",
    "        \n",
    "    return case_list[999999]\n",
    "\n",
    "print lexicographic(10)\n",
    "        "
   ]
  }
 ],
 "metadata": {
  "kernelspec": {
   "display_name": "Python 2",
   "language": "python",
   "name": "python2"
  },
  "language_info": {
   "codemirror_mode": {
    "name": "ipython",
    "version": 2
   },
   "file_extension": ".py",
   "mimetype": "text/x-python",
   "name": "python",
   "nbconvert_exporter": "python",
   "pygments_lexer": "ipython2",
   "version": "2.7.12"
  }
 },
 "nbformat": 4,
 "nbformat_minor": 1
}
