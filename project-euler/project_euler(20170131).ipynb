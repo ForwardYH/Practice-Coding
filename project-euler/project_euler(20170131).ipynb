{
 "cells": [
  {
   "cell_type": "markdown",
   "metadata": {},
   "source": [
    "# Problem 9\n",
    "\n",
    "* 세 자연수 a, b, c 가 피타고라스 정리 a^2 + b^2 = c^2 를 만족하면 피타고라스 수라고 부릅니다 (여기서 a < b < c ).\n",
    "예를 들면 3^2 + 4^2 = 9 + 16 = 25 = 5^2이므로 3, 4, 5는 피타고라스 수입니다.\n",
    "\n",
    "a + b + c = 1000 인 피타고라스 수 a, b, c는 한 가지 뿐입니다. 이 때, a × b × c 는 얼마입니까?"
   ]
  },
  {
   "cell_type": "code",
   "execution_count": 26,
   "metadata": {
    "collapsed": false
   },
   "outputs": [
    {
     "name": "stdout",
     "output_type": "stream",
     "text": [
      "each factor : 200 375 425\n",
      "------------------------------\n",
      "product : 31875000\n"
     ]
    }
   ],
   "source": [
    "def problem9(a, b, c):\n",
    "    if a ** 2 + b ** 2 == c ** 2 and a + b + c == 1000:\n",
    "        return True\n",
    "    return False\n",
    "\n",
    "\n",
    "num_list = [x for x in xrange(1, 1000)]\n",
    "for num1 in num_list:\n",
    "    for num2 in xrange(num1, 1000 - num1):\n",
    "        for num3 in xrange(num2, 1000 - num2):\n",
    "            if problem9(num1, num2, num3):\n",
    "                print 'each factor :', num1, num2, num3\n",
    "                print '-' * 30\n",
    "                print 'product :', num1 * num2 * num3\n",
    "                \n",
    "                \n",
    " "
   ]
  }
 ],
 "metadata": {
  "kernelspec": {
   "display_name": "Python 2",
   "language": "python",
   "name": "python2"
  },
  "language_info": {
   "codemirror_mode": {
    "name": "ipython",
    "version": 2
   },
   "file_extension": ".py",
   "mimetype": "text/x-python",
   "name": "python",
   "nbconvert_exporter": "python",
   "pygments_lexer": "ipython2",
   "version": "2.7.12"
  }
 },
 "nbformat": 4,
 "nbformat_minor": 1
}
