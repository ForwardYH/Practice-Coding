{
 "cells": [
  {
   "cell_type": "markdown",
   "metadata": {},
   "source": [
    "# Problem 2\n",
    "\n",
    "\n",
    "피보나치 수열의 각 항은 바로 앞의 항 두 개를 더한 것이 됩니다. 1과 2로 시작하는 경우 이 수열은 아래와 같습니다.\n",
    "\n",
    "1, 2, 3, 5, 8, 13, 21, 34, 55, 89, ...\n",
    "짝수이면서 4백만 이하인 모든 항을 더하면 얼마가 됩니까?"
   ]
  },
  {
   "cell_type": "code",
   "execution_count": 41,
   "metadata": {
    "collapsed": false
   },
   "outputs": [
    {
     "name": "stdout",
     "output_type": "stream",
     "text": [
      "피보나치 수열 리스트 : [1, 2, 3, 5, 8, 13, 21, 34, 55, 89, 144, 233, 377, 610, 987, 1597, 2584, 4181, 6765, 10946, 17711, 28657, 46368, 75025, 121393, 196418, 317811, 514229, 832040, 1346269, 2178309, 3524578, 5702887]\n",
      "--------------------------------------------------\n",
      "짝수이면서 4백만 이하의 모든 항의 합 : 4613732\n"
     ]
    }
   ],
   "source": [
    "def fibonacci_sum(num):\n",
    "    fibo_list = []\n",
    "    \n",
    "    a, b = 1, 2\n",
    "    \n",
    "    fibo_list.append(a)\n",
    "    for i in range(num):\n",
    "        a, b = b, b + a\n",
    "        fibo_list.append(a)\n",
    "    \n",
    "    return fibo_list\n",
    "\n",
    "def fibo_summation(fibo_list):\n",
    "    fibo_sum = 0\n",
    "    for i in fibo_list:\n",
    "        if i % 2 == 0 and i <= 4000000:\n",
    "            fibo_sum += i\n",
    "    \n",
    "        \n",
    "    return  fibo_sum\n",
    "\n",
    "print '피보나치 수열 리스트 :', fibonacci_sum(32)\n",
    "print '-' * 50\n",
    "print '짝수이면서 4백만 이하의 모든 항의 합 :', fibo_summation(fibonacci_sum(32))\n",
    "            \n",
    "        \n",
    "    "
   ]
  }
 ],
 "metadata": {
  "kernelspec": {
   "display_name": "Python 2",
   "language": "python",
   "name": "python2"
  },
  "language_info": {
   "codemirror_mode": {
    "name": "ipython",
    "version": 2
   },
   "file_extension": ".py",
   "mimetype": "text/x-python",
   "name": "python",
   "nbconvert_exporter": "python",
   "pygments_lexer": "ipython2",
   "version": "2.7.12"
  }
 },
 "nbformat": 4,
 "nbformat_minor": 1
}
