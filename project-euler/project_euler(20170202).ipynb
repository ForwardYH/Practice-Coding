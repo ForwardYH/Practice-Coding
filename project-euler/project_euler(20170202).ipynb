{
 "cells": [
  {
   "cell_type": "markdown",
   "metadata": {},
   "source": [
    "# Problem 12\n",
    "\n",
    "\n",
    "* 1부터 n까지의 자연수를 차례로 더하여 구해진 값을 삼각수라고 합니다.\n",
    "예를 들어 7번째 삼각수는 1 + 2 + 3 + 4 + 5 + 6 + 7 = 28이 됩니다.\n",
    "이런 식으로 삼각수를 구해 나가면 다음과 같습니다.\n",
    "\n",
    "1, 3, 6, 10, 15, 21, 28, 36, 45, 55, ...\n",
    "이 삼각수들의 약수를 구해봅시다.\n",
    "\n",
    "* 1: 1\n",
    "* 3: 1, 3\n",
    "* 6: 1, 2, 3, 6\n",
    "* 10: 1, 2, 5, 10\n",
    "* 15: 1, 3, 5, 15\n",
    "* 21: 1, 3, 7, 21\n",
    "* 28: 1, 2, 4, 7, 14, 28\n",
    "\n",
    "위에서 보듯이, 5개 이상의 약수를 갖는 첫번째 삼각수는 28입니다.\n",
    "\n",
    "그러면 500개 이상의 약수를 갖는 가장 작은 삼각수는 얼마입니까?"
   ]
  },
  {
   "cell_type": "code",
   "execution_count": 5,
   "metadata": {
    "collapsed": false
   },
   "outputs": [
    {
     "name": "stdout",
     "output_type": "stream",
     "text": [
      "76576500\n"
     ]
    }
   ],
   "source": [
    "import math\n",
    "\n",
    "def make_triangular_number(limit):\n",
    "\n",
    "    num = 1\n",
    "    while num <= limit:\n",
    "        triangular_nums = sum(range(1, num + 1))\n",
    "        yield triangular_nums\n",
    "        num += 1\n",
    "\n",
    "def check_divisor_num(n):\n",
    "    return sum(2 for i in range(1, int(math.sqrt(n)+1)) if not n % i)\n",
    "        \n",
    "        \n",
    "def find_correct_triangular_num():\n",
    "    test_triangular_nums = make_triangular_number(100000)\n",
    "    for i in test_triangular_nums:\n",
    "        if check_divisor_num(i) >= 500:\n",
    "            return i\n",
    "            \n",
    "print find_correct_triangular_num()"
   ]
  }
 ],
 "metadata": {
  "kernelspec": {
   "display_name": "Python 2",
   "language": "python",
   "name": "python2"
  },
  "language_info": {
   "codemirror_mode": {
    "name": "ipython",
    "version": 2
   },
   "file_extension": ".py",
   "mimetype": "text/x-python",
   "name": "python",
   "nbconvert_exporter": "python",
   "pygments_lexer": "ipython2",
   "version": "2.7.12"
  }
 },
 "nbformat": 4,
 "nbformat_minor": 1
}
