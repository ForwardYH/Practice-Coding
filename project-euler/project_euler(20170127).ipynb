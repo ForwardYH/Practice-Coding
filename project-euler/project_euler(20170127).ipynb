{
 "cells": [
  {
   "cell_type": "markdown",
   "metadata": {},
   "source": [
    "# Project Euler Problem 20\n",
    "\n",
    "n! 이라는 표기법은 n × (n − 1) × ... × 3 × 2 × 1을 뜻합니다.\n",
    "\n",
    "예를 들자면 10! = 10 × 9 × ... × 3 × 2 × 1 = 3628800 이 되는데,\n",
    "여기서 10!의 각 자리수를 더해 보면 3 + 6 + 2 + 8 + 8 + 0 + 0 = 27 입니다.\n",
    "\n",
    "100! 의 자리수를 모두 더하면 얼마입니까?"
   ]
  },
  {
   "cell_type": "code",
   "execution_count": 2,
   "metadata": {
    "collapsed": false
   },
   "outputs": [
    {
     "name": "stdout",
     "output_type": "stream",
     "text": [
      "(24, 6)\n",
      "(120, 3)\n",
      "(3628800, 27)\n",
      "(93326215443944152681699238856266700490715968264381621468592963895217599993229915608941463976156518286253697920827223758251185210916864000000000000000000000000L, 648)\n"
     ]
    }
   ],
   "source": [
    "def cipher_sum(num):\n",
    "    fac = 1\n",
    "    each_cipher_sum = 0\n",
    "    for i in range(1, num+1):\n",
    "        fac *= i\n",
    "        \n",
    "    string_fac = str(fac)\n",
    "    for j in string_fac:\n",
    "        each_cipher_sum += int(j)\n",
    "        \n",
    "        \n",
    "    return fac, each_cipher_sum\n",
    "\n",
    "cases = [4, 5, 10, 100]\n",
    "\n",
    "for case in cases:\n",
    "    print cipher_sum(case)"
   ]
  },
  {
   "cell_type": "markdown",
   "metadata": {},
   "source": [
    "* 4!의 경우 4 x 3 x 2 x 1 = 24, 2 + 4 = 6\n",
    "* 5!의 경우 5 x 4 x 3 x 2 x 1 = 120, 1 + 2 + 0 = 3\n",
    "* 10!의 경우 10 x 9 x 8 x 7 x ... x 1 = 3628800, 3 + 6 + 2 + 8 + 8 + 0 + 0 = 27\n",
    "\n",
    "위 세가지의 시도가 모두 맞음.\n",
    "따라서 100!의 자리수를 모두 더하면 648이다.\n",
    "\n"
   ]
  }
 ],
 "metadata": {
  "kernelspec": {
   "display_name": "Python 2",
   "language": "python",
   "name": "python2"
  },
  "language_info": {
   "codemirror_mode": {
    "name": "ipython",
    "version": 2
   },
   "file_extension": ".py",
   "mimetype": "text/x-python",
   "name": "python",
   "nbconvert_exporter": "python",
   "pygments_lexer": "ipython2",
   "version": "2.7.12"
  }
 },
 "nbformat": 4,
 "nbformat_minor": 1
}
