{
 "cells": [
  {
   "cell_type": "markdown",
   "metadata": {},
   "source": [
    "# Problem 30"
   ]
  },
  {
   "cell_type": "markdown",
   "metadata": {},
   "source": [
    "* 각 자리의 숫자를 4제곱해서 더했을 때 자기 자신이 되는 수는 놀랍게도 단 세 개밖에 없습니다.\n",
    "\n",
    "- 1634 = 1^4 + 6^4 + 3^4 + 4^4\n",
    "- 8208 = 8^4 + 2^4 + 0^4 + 8^4\n",
    "- 9474 = 9^4 + 4^4 + 7^4 + 4^4\n",
    "\n",
    "    - (1 = 1^4의 경우는 엄밀히 말해 합이 아니므로 제외합니다)\n",
    "\n",
    "위의 세 숫자를 모두 더하면 1634 + 8208 + 9474 = 19316 입니다.\n",
    "\n",
    "그렇다면, 각 자리 숫자를 5제곱해서 더했을 때 자기 자신이 되는 수들의 합은 얼마입니까?"
   ]
  },
  {
   "cell_type": "code",
   "execution_count": 2,
   "metadata": {
    "collapsed": false
   },
   "outputs": [
    {
     "name": "stdout",
     "output_type": "stream",
     "text": [
      "Please input power num : 4\n",
      "([1634, 8208, 9474], 19316)\n",
      "Please input power num : 5\n",
      "([4150, 4151, 54748, 92727, 93084, 194979], 443839)\n",
      "Please input power num : 5\n",
      "([4150, 4151, 54748, 92727, 93084, 194979], 443839)\n"
     ]
    }
   ],
   "source": [
    "def unique_num(num):\n",
    "    unique_num_list = []\n",
    "    str_num_list = []\n",
    "    M = int(raw_input('Please input power num : '))\n",
    "    for i in range(1000, num + 1):\n",
    "        str_i = str(i)\n",
    "        str_num_list.append(str_i)\n",
    "    \n",
    "    \n",
    "    for j in range(len(str_num_list)):\n",
    "        unique_num_sum = 0\n",
    "        for k in range(len(str_num_list[j])):\n",
    "            unique_num_sum += int(str_num_list[j][k]) ** M\n",
    "            \n",
    "        if unique_num_sum == int(str_num_list[j]):\n",
    "            unique_num_list.append(int(str_num_list[j]))\n",
    "        else:\n",
    "            continue\n",
    "                \n",
    "    return unique_num_list, sum(unique_num_list)\n",
    "\n",
    "print unique_num(10000)\n",
    "print unique_num(1000000)\n",
    "print unique_num(9999999)\n",
    "        "
   ]
  }
 ],
 "metadata": {
  "kernelspec": {
   "display_name": "Python 2",
   "language": "python",
   "name": "python2"
  },
  "language_info": {
   "codemirror_mode": {
    "name": "ipython",
    "version": 2
   },
   "file_extension": ".py",
   "mimetype": "text/x-python",
   "name": "python",
   "nbconvert_exporter": "python",
   "pygments_lexer": "ipython2",
   "version": "2.7.12"
  }
 },
 "nbformat": 4,
 "nbformat_minor": 1
}
