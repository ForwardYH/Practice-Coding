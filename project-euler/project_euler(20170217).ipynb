{
 "cells": [
  {
   "cell_type": "markdown",
   "metadata": {},
   "source": [
    "# Problem 37\n",
    "\n",
    "소수 3797에는 왼쪽부터 자리수를 하나씩 없애거나 (3797, 797, 97, 7) 오른쪽부터 없애도 (3797, 379, 37, 3) 모두 소수가 되는 성질이 있습니다.\n",
    "\n",
    "이런 성질을 가진 소수는 단 11개만이 존재합니다. 이것을 모두 찾아서 합을 구하세요.\n",
    "\n",
    "(참고: 2, 3, 5, 7은 제외합니다)"
   ]
  },
  {
   "cell_type": "code",
   "execution_count": 192,
   "metadata": {
    "collapsed": true
   },
   "outputs": [],
   "source": [
    "import math\n",
    "import time"
   ]
  },
  {
   "cell_type": "code",
   "execution_count": 200,
   "metadata": {
    "collapsed": false
   },
   "outputs": [
    {
     "name": "stdout",
     "output_type": "stream",
     "text": [
      "23 37 53 73 313 317 373 797 3137 3797 739397\n",
      "--------------------------------------------------\n",
      "count : 11\n",
      "summation : 748317\n",
      "--------------------------------------------------\n",
      "finished : 24.5446722324 seconds\n"
     ]
    }
   ],
   "source": [
    "start = time.clock()\n",
    "def isprime(factor):\n",
    "    prime = True\n",
    "    if factor == 1:\n",
    "        return False\n",
    "    for i in range(2, int(math.sqrt(factor)) + 1):\n",
    "        if factor % i == 0:\n",
    "            prime = False\n",
    "            break\n",
    "    return prime\n",
    "\n",
    "\n",
    "def remove_left(factor):\n",
    "    total_remove_lst = []\n",
    "    left_remove_lst = []\n",
    "    right_remove_lst = []\n",
    "    factor = str(factor)\n",
    "    if isprime(int(factor)):\n",
    "        for j, _ in enumerate(factor):\n",
    "            left_remove_lst.append(factor[j:])\n",
    "        total_remove_lst.extend(left_remove_lst)\n",
    "        for k, _ in enumerate(factor):\n",
    "            right_remove_lst.append(factor[:-k + len(factor)])\n",
    "        total_remove_lst.extend(right_remove_lst)\n",
    "    return total_remove_lst\n",
    "\n",
    "\n",
    "def main(factor):\n",
    "    lr_prime = []\n",
    "    for l, val in enumerate(remove_left(factor)):\n",
    "        if isprime(int(val)):\n",
    "            lr_prime.append(int(val))\n",
    "        else:\n",
    "            del lr_prime[:]\n",
    "    return lr_prime\n",
    "            \n",
    "if __name__ == \"__main__\":\n",
    "    factor = [x for x in range(11, 1000000)]\n",
    "    summation = 0\n",
    "    count = 0\n",
    "    for case in factor:\n",
    "        if main(case) != [] and len(remove_left(case)) == len(main(case)):\n",
    "            summation += main(case)[0]\n",
    "            count += 1\n",
    "            print main(case)[0],\n",
    "            \n",
    "    print\n",
    "    print '-' * 50\n",
    "    print 'count :', count\n",
    "    print 'summation :', summation\n",
    "    print '-' * 50\n",
    "    print 'finished : {} seconds'.format(time.clock() - start)"
   ]
  }
 ],
 "metadata": {
  "kernelspec": {
   "display_name": "Python 2",
   "language": "python",
   "name": "python2"
  },
  "language_info": {
   "codemirror_mode": {
    "name": "ipython",
    "version": 2
   },
   "file_extension": ".py",
   "mimetype": "text/x-python",
   "name": "python",
   "nbconvert_exporter": "python",
   "pygments_lexer": "ipython2",
   "version": "2.7.12"
  }
 },
 "nbformat": 4,
 "nbformat_minor": 1
}
